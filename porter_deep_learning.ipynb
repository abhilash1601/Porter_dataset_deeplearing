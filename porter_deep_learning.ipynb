{
 "cells": [
  {
   "cell_type": "markdown",
   "id": "34628069",
   "metadata": {},
   "source": [
    "## Introduction\n",
    "\n",
    "Porter is India's Largest Marketplace for Intra-City Logistics. Leader in the country's $40 billion intra-city logistics market, Porter strives to improve the lives of 1,50,000+ driver-partners by providing them with consistent earning & independence. Currently, the company has serviced 5+ million customers\n",
    "\n",
    "Porter works with a wide range of restaurants for delivering their items directly to the people.\n",
    "\n",
    "Porter has a number of delivery partners available for delivering the food, from various restaurants and wants to get an estimated delivery time that it can provide the customers on the basis of what they are ordering, from where and also the delivery partners.\n",
    "\n",
    "This dataset has the required data to train a regression model that will do the delivery time estimation, based on all those features"
   ]
  },
  {
   "cell_type": "markdown",
   "id": "c976715f",
   "metadata": {},
   "source": [
    "## Data Dictionary\n",
    "\n",
    "Each row in this file corresponds to one unique delivery. Each column corresponds to a feature as explained below.\n",
    "\n",
    "    market_id : integer id for the market where the restaurant lies\n",
    "    created_at : the timestamp at which the order was placed\n",
    "    actual_delivery_time : the timestamp when the order was delivered\n",
    "    store_primary_category : category for the restaurant\n",
    "    order_protocol : integer code value for order protocol(how the order was placed ie: through porter, call to restaurant, pre booked, third part etc)\n",
    "    total_items subtotal : final price of the order\n",
    "    num_distinct_items : the number of distinct items in the order\n",
    "    min_item_price : price of the cheapest item in the order\n",
    "    max_item_price : price of the costliest item in order\n",
    "    total_onshift_partners : number of delivery partners on duty at the time order was placed\n",
    "    total_busy_partners : number of delivery partners attending to other tasks\n",
    "    total_outstanding_orders : total number of orders to be fulfilled at the moment\n"
   ]
  },
  {
   "cell_type": "code",
   "execution_count": 1,
   "id": "a860cf11",
   "metadata": {},
   "outputs": [],
   "source": [
    "import numpy as np\n",
    "import pandas as pd\n",
    "import category_encoders as ce\n",
    "import seaborn as sns\n",
    "import matplotlib.pyplot as plt\n",
    "from sklearn.preprocessing import StandardScaler\n",
    "from sklearn.model_selection import train_test_split\n",
    "from sklearn.ensemble import RandomForestRegressor\n",
    "from sklearn.model_selection import GridSearchCV\n",
    "from sklearn.ensemble import RandomForestRegressor\n",
    "from sklearn.metrics import mean_squared_error, mean_absolute_error\n",
    "from math import sqrt\n",
    "from sklearn.metrics import r2_score\n",
    "\n",
    "\n",
    "\n",
    "#all imports\n",
    "import tensorflow as tf\n",
    "from tensorflow.keras.models import Model\n",
    "import matplotlib.pyplot as plt\n",
    "import os\n",
    "import datetime \n",
    "from tensorflow import keras\n",
    "from sklearn.metrics import mean_squared_error, mean_absolute_error\n",
    "from tensorflow.keras.layers import Dense, Input, Activation, Dropout, BatchNormalization"
   ]
  },
  {
   "cell_type": "code",
   "execution_count": 2,
   "id": "008cd878",
   "metadata": {},
   "outputs": [],
   "source": [
    "df = pd.read_csv('dataset.csv')"
   ]
  },
  {
   "cell_type": "code",
   "execution_count": 3,
   "id": "0eea5d6f",
   "metadata": {},
   "outputs": [
    {
     "name": "stdout",
     "output_type": "stream",
     "text": [
      "The Number of Rows in the Dataset = 197428, and the number of columns = 14\n"
     ]
    }
   ],
   "source": [
    "# Data Shape\n",
    "print(f'The Number of Rows in the Dataset = {df.shape[0]}, and the number of columns = {df.shape[1]}')"
   ]
  },
  {
   "cell_type": "code",
   "execution_count": 4,
   "id": "373efa44",
   "metadata": {},
   "outputs": [
    {
     "name": "stdout",
     "output_type": "stream",
     "text": [
      "<class 'pandas.core.frame.DataFrame'>\n",
      "RangeIndex: 197428 entries, 0 to 197427\n",
      "Data columns (total 14 columns):\n",
      " #   Column                    Non-Null Count   Dtype  \n",
      "---  ------                    --------------   -----  \n",
      " 0   market_id                 196441 non-null  float64\n",
      " 1   created_at                197428 non-null  object \n",
      " 2   actual_delivery_time      197421 non-null  object \n",
      " 3   store_id                  197428 non-null  object \n",
      " 4   store_primary_category    192668 non-null  object \n",
      " 5   order_protocol            196433 non-null  float64\n",
      " 6   total_items               197428 non-null  int64  \n",
      " 7   subtotal                  197428 non-null  int64  \n",
      " 8   num_distinct_items        197428 non-null  int64  \n",
      " 9   min_item_price            197428 non-null  int64  \n",
      " 10  max_item_price            197428 non-null  int64  \n",
      " 11  total_onshift_partners    181166 non-null  float64\n",
      " 12  total_busy_partners       181166 non-null  float64\n",
      " 13  total_outstanding_orders  181166 non-null  float64\n",
      "dtypes: float64(5), int64(5), object(4)\n",
      "memory usage: 21.1+ MB\n"
     ]
    }
   ],
   "source": [
    "# Datatypes and Null Value Counts\n",
    "df.info()"
   ]
  },
  {
   "cell_type": "code",
   "execution_count": 5,
   "id": "64109f81",
   "metadata": {},
   "outputs": [
    {
     "data": {
      "text/plain": [
       "market_id                     987\n",
       "created_at                      0\n",
       "actual_delivery_time            7\n",
       "store_id                        0\n",
       "store_primary_category       4760\n",
       "order_protocol                995\n",
       "total_items                     0\n",
       "subtotal                        0\n",
       "num_distinct_items              0\n",
       "min_item_price                  0\n",
       "max_item_price                  0\n",
       "total_onshift_partners      16262\n",
       "total_busy_partners         16262\n",
       "total_outstanding_orders    16262\n",
       "dtype: int64"
      ]
     },
     "execution_count": 5,
     "metadata": {},
     "output_type": "execute_result"
    }
   ],
   "source": [
    "# Checking Null Values\n",
    "df.isnull().sum(axis = 0)"
   ]
  },
  {
   "cell_type": "markdown",
   "id": "0b0fe362",
   "metadata": {},
   "source": [
    "## EDA and Feature Engineering"
   ]
  },
  {
   "cell_type": "code",
   "execution_count": 6,
   "id": "be976de0",
   "metadata": {},
   "outputs": [],
   "source": [
    "# Converting the Time Columns to DateTime Format\n",
    "# Extracting time features from Created at column\n",
    "df['created_at'] = pd.to_datetime(df['created_at'])\n",
    "df['actual_delivery_time'] = pd.to_datetime(df['actual_delivery_time'])\n",
    "df['delivery_time'] = (df['actual_delivery_time'] - df['created_at']).dt.total_seconds() / 60.0\n",
    "df['hour_of_day_created'] = df['created_at'].dt.hour\n",
    "df['day_of_week_created'] = df['created_at'].dt.dayofweek\n",
    "df['month_created_at'] = df['created_at'].dt.month\n",
    "df['year_created_at'] = df['created_at'].dt.year"
   ]
  },
  {
   "cell_type": "code",
   "execution_count": 7,
   "id": "fab58760",
   "metadata": {},
   "outputs": [
    {
     "data": {
      "text/plain": [
       "(197428, 19)"
      ]
     },
     "execution_count": 7,
     "metadata": {},
     "output_type": "execute_result"
    }
   ],
   "source": [
    "df.shape"
   ]
  },
  {
   "cell_type": "code",
   "execution_count": 8,
   "id": "0e154845",
   "metadata": {},
   "outputs": [
    {
     "name": "stdout",
     "output_type": "stream",
     "text": [
      "<class 'pandas.core.frame.DataFrame'>\n",
      "RangeIndex: 197428 entries, 0 to 197427\n",
      "Data columns (total 19 columns):\n",
      " #   Column                    Non-Null Count   Dtype         \n",
      "---  ------                    --------------   -----         \n",
      " 0   market_id                 196441 non-null  float64       \n",
      " 1   created_at                197428 non-null  datetime64[ns]\n",
      " 2   actual_delivery_time      197421 non-null  datetime64[ns]\n",
      " 3   store_id                  197428 non-null  object        \n",
      " 4   store_primary_category    192668 non-null  object        \n",
      " 5   order_protocol            196433 non-null  float64       \n",
      " 6   total_items               197428 non-null  int64         \n",
      " 7   subtotal                  197428 non-null  int64         \n",
      " 8   num_distinct_items        197428 non-null  int64         \n",
      " 9   min_item_price            197428 non-null  int64         \n",
      " 10  max_item_price            197428 non-null  int64         \n",
      " 11  total_onshift_partners    181166 non-null  float64       \n",
      " 12  total_busy_partners       181166 non-null  float64       \n",
      " 13  total_outstanding_orders  181166 non-null  float64       \n",
      " 14  delivery_time             197421 non-null  float64       \n",
      " 15  hour_of_day_created       197428 non-null  int64         \n",
      " 16  day_of_week_created       197428 non-null  int64         \n",
      " 17  month_created_at          197428 non-null  int64         \n",
      " 18  year_created_at           197428 non-null  int64         \n",
      "dtypes: datetime64[ns](2), float64(6), int64(9), object(2)\n",
      "memory usage: 28.6+ MB\n"
     ]
    }
   ],
   "source": [
    "df.info()"
   ]
  },
  {
   "cell_type": "code",
   "execution_count": null,
   "id": "04b418f2",
   "metadata": {},
   "outputs": [],
   "source": []
  },
  {
   "cell_type": "code",
   "execution_count": 9,
   "id": "1a476f23",
   "metadata": {},
   "outputs": [
    {
     "data": {
      "text/plain": [
       "Index(['market_id', 'created_at', 'actual_delivery_time', 'store_id',\n",
       "       'store_primary_category', 'order_protocol', 'total_items', 'subtotal',\n",
       "       'num_distinct_items', 'min_item_price', 'max_item_price',\n",
       "       'total_onshift_partners', 'total_busy_partners',\n",
       "       'total_outstanding_orders', 'delivery_time', 'hour_of_day_created',\n",
       "       'day_of_week_created', 'month_created_at', 'year_created_at'],\n",
       "      dtype='object')"
      ]
     },
     "execution_count": 9,
     "metadata": {},
     "output_type": "execute_result"
    }
   ],
   "source": [
    "df.columns"
   ]
  },
  {
   "cell_type": "code",
   "execution_count": 10,
   "id": "824710b4",
   "metadata": {},
   "outputs": [],
   "source": [
    "#Droping NA from Delivery time and Market id\n",
    "df.dropna(subset=['delivery_time'],inplace=True)\n",
    "df.dropna(subset=['market_id'],inplace=True)"
   ]
  },
  {
   "cell_type": "code",
   "execution_count": 11,
   "id": "4958f023",
   "metadata": {},
   "outputs": [
    {
     "data": {
      "image/png": "[encoded data removed]",
      "text/plain": [
       "<Figure size 1440x432 with 1 Axes>"
      ]
     },
     "metadata": {
      "needs_background": "light"
     },
     "output_type": "display_data"
    }
   ],
   "source": [
    "plt.figure(figsize=(20, 6)) \n",
    "sns.kdeplot(df['delivery_time'])\n",
    "plt.show()"
   ]
  },
  {
   "cell_type": "code",
   "execution_count": 12,
   "id": "129204e8",
   "metadata": {},
   "outputs": [
    {
     "name": "stderr",
     "output_type": "stream",
     "text": [
      "C:\\Users\\Abhilash\\anaconda3\\lib\\site-packages\\seaborn\\_decorators.py:36: FutureWarning: Pass the following variable as a keyword arg: x. From version 0.12, the only valid positional argument will be `data`, and passing other arguments without an explicit keyword will result in an error or misinterpretation.\n",
      "  warnings.warn(\n"
     ]
    },
    {
     "data": {
      "text/plain": [
       "<AxesSubplot:xlabel='market_id', ylabel='count'>"
      ]
     },
     "execution_count": 12,
     "metadata": {},
     "output_type": "execute_result"
    },
    {
     "data": {
      "image/png": "[encoded data removed]",
      "text/plain": [
       "<Figure size 432x288 with 1 Axes>"
      ]
     },
     "metadata": {
      "needs_background": "light"
     },
     "output_type": "display_data"
    }
   ],
   "source": [
    "sns.countplot(df['market_id'])"
   ]
  },
  {
   "cell_type": "code",
   "execution_count": 13,
   "id": "74e7cf48",
   "metadata": {},
   "outputs": [
    {
     "name": "stderr",
     "output_type": "stream",
     "text": [
      "C:\\Users\\Abhilash\\anaconda3\\lib\\site-packages\\seaborn\\_decorators.py:36: FutureWarning: Pass the following variables as keyword args: x, y. From version 0.12, the only valid positional argument will be `data`, and passing other arguments without an explicit keyword will result in an error or misinterpretation.\n",
      "  warnings.warn(\n"
     ]
    },
    {
     "data": {
      "text/plain": [
       "<AxesSubplot:xlabel='market_id', ylabel='delivery_time'>"
      ]
     },
     "execution_count": 13,
     "metadata": {},
     "output_type": "execute_result"
    },
    {
     "data": {
      "image/png": "[encoded data removed]",
      "text/plain": [
       "<Figure size 432x288 with 1 Axes>"
      ]
     },
     "metadata": {
      "needs_background": "light"
     },
     "output_type": "display_data"
    }
   ],
   "source": [
    "sns.barplot(df['market_id'],df['delivery_time'],estimator=np.mean)"
   ]
  },
  {
   "cell_type": "code",
   "execution_count": 14,
   "id": "30fa4776",
   "metadata": {},
   "outputs": [
    {
     "name": "stderr",
     "output_type": "stream",
     "text": [
      "C:\\Users\\Abhilash\\anaconda3\\lib\\site-packages\\seaborn\\_decorators.py:36: FutureWarning: Pass the following variables as keyword args: x, y. From version 0.12, the only valid positional argument will be `data`, and passing other arguments without an explicit keyword will result in an error or misinterpretation.\n",
      "  warnings.warn(\n"
     ]
    },
    {
     "data": {
      "text/plain": [
       "<AxesSubplot:xlabel='market_id', ylabel='total_outstanding_orders'>"
      ]
     },
     "execution_count": 14,
     "metadata": {},
     "output_type": "execute_result"
    },
    {
     "data": {
      "image/png": "[encoded data removed]",
      "text/plain": [
       "<Figure size 432x288 with 1 Axes>"
      ]
     },
     "metadata": {
      "needs_background": "light"
     },
     "output_type": "display_data"
    }
   ],
   "source": [
    "sns.barplot(df['market_id'],df['total_outstanding_orders'],estimator=np.mean)"
   ]
  },
  {
   "cell_type": "code",
   "execution_count": 15,
   "id": "1462ecb3",
   "metadata": {},
   "outputs": [
    {
     "data": {
      "text/plain": [
       "market_id\n",
       "1.0    70\n",
       "2.0    64\n",
       "3.0    65\n",
       "4.0    65\n",
       "5.0    59\n",
       "6.0    62\n",
       "Name: store_primary_category, dtype: int64"
      ]
     },
     "execution_count": 15,
     "metadata": {},
     "output_type": "execute_result"
    }
   ],
   "source": [
    "df['store_primary_category'].groupby(df['market_id']).nunique()"
   ]
  },
  {
   "cell_type": "code",
   "execution_count": 16,
   "id": "1c055c1c",
   "metadata": {},
   "outputs": [
    {
     "name": "stderr",
     "output_type": "stream",
     "text": [
      "C:\\Users\\Abhilash\\anaconda3\\lib\\site-packages\\seaborn\\_decorators.py:36: FutureWarning: Pass the following variable as a keyword arg: x. From version 0.12, the only valid positional argument will be `data`, and passing other arguments without an explicit keyword will result in an error or misinterpretation.\n",
      "  warnings.warn(\n"
     ]
    },
    {
     "data": {
      "text/plain": [
       "<AxesSubplot:xlabel='created_at', ylabel='count'>"
      ]
     },
     "execution_count": 16,
     "metadata": {},
     "output_type": "execute_result"
    },
    {
     "data": {
      "image/png": "[encoded data removed]",
      "text/plain": [
       "<Figure size 432x288 with 1 Axes>"
      ]
     },
     "metadata": {
      "needs_background": "light"
     },
     "output_type": "display_data"
    }
   ],
   "source": [
    "sns.countplot(df['created_at'].dt.month_name())"
   ]
  },
  {
   "cell_type": "code",
   "execution_count": 17,
   "id": "b6234b1d",
   "metadata": {},
   "outputs": [
    {
     "name": "stderr",
     "output_type": "stream",
     "text": [
      "C:\\Users\\Abhilash\\anaconda3\\lib\\site-packages\\seaborn\\_decorators.py:36: FutureWarning: Pass the following variable as a keyword arg: x. From version 0.12, the only valid positional argument will be `data`, and passing other arguments without an explicit keyword will result in an error or misinterpretation.\n",
      "  warnings.warn(\n"
     ]
    },
    {
     "data": {
      "text/plain": [
       "<AxesSubplot:xlabel='actual_delivery_time', ylabel='count'>"
      ]
     },
     "execution_count": 17,
     "metadata": {},
     "output_type": "execute_result"
    },
    {
     "data": {
      "image/png": "[encoded data removed]",
      "text/plain": [
       "<Figure size 432x288 with 1 Axes>"
      ]
     },
     "metadata": {
      "needs_background": "light"
     },
     "output_type": "display_data"
    }
   ],
   "source": [
    "sns.countplot(df['actual_delivery_time'].dt.month_name())"
   ]
  },
  {
   "cell_type": "code",
   "execution_count": 18,
   "id": "b4a75044",
   "metadata": {},
   "outputs": [
    {
     "name": "stderr",
     "output_type": "stream",
     "text": [
      "C:\\Users\\Abhilash\\anaconda3\\lib\\site-packages\\seaborn\\_decorators.py:36: FutureWarning: Pass the following variable as a keyword arg: x. From version 0.12, the only valid positional argument will be `data`, and passing other arguments without an explicit keyword will result in an error or misinterpretation.\n",
      "  warnings.warn(\n"
     ]
    },
    {
     "data": {
      "image/png": "[encoded data removed]",
      "text/plain": [
       "<Figure size 720x432 with 1 Axes>"
      ]
     },
     "metadata": {
      "needs_background": "light"
     },
     "output_type": "display_data"
    }
   ],
   "source": [
    "plt.figure(figsize=(10, 6)) \n",
    "sns.countplot(df['created_at'].dt.day)\n",
    "plt.show()"
   ]
  },
  {
   "cell_type": "code",
   "execution_count": 19,
   "id": "2c34acdd",
   "metadata": {},
   "outputs": [
    {
     "name": "stderr",
     "output_type": "stream",
     "text": [
      "C:\\Users\\Abhilash\\anaconda3\\lib\\site-packages\\seaborn\\_decorators.py:36: FutureWarning: Pass the following variable as a keyword arg: x. From version 0.12, the only valid positional argument will be `data`, and passing other arguments without an explicit keyword will result in an error or misinterpretation.\n",
      "  warnings.warn(\n"
     ]
    },
    {
     "data": {
      "image/png": "[encoded data removed]",
      "text/plain": [
       "<Figure size 720x432 with 1 Axes>"
      ]
     },
     "metadata": {
      "needs_background": "light"
     },
     "output_type": "display_data"
    }
   ],
   "source": [
    "plt.figure(figsize=(10, 6)) \n",
    "sns.countplot(df['created_at'].dt.day_name())\n",
    "plt.show()"
   ]
  },
  {
   "cell_type": "code",
   "execution_count": 20,
   "id": "52e6a29c",
   "metadata": {},
   "outputs": [
    {
     "name": "stderr",
     "output_type": "stream",
     "text": [
      "C:\\Users\\Abhilash\\anaconda3\\lib\\site-packages\\seaborn\\_decorators.py:36: FutureWarning: Pass the following variable as a keyword arg: x. From version 0.12, the only valid positional argument will be `data`, and passing other arguments without an explicit keyword will result in an error or misinterpretation.\n",
      "  warnings.warn(\n"
     ]
    },
    {
     "data": {
      "image/png": "[encoded data removed]",
      "text/plain": [
       "<Figure size 720x432 with 1 Axes>"
      ]
     },
     "metadata": {
      "needs_background": "light"
     },
     "output_type": "display_data"
    }
   ],
   "source": [
    "plt.figure(figsize=(10, 6)) \n",
    "sns.countplot(df['created_at'].dt.month_name(),hue=df['created_at'].dt.day_name())\n",
    "plt.show()"
   ]
  },
  {
   "cell_type": "code",
   "execution_count": 21,
   "id": "b4e4267b",
   "metadata": {},
   "outputs": [
    {
     "data": {
      "text/plain": [
       "74"
      ]
     },
     "execution_count": 21,
     "metadata": {},
     "output_type": "execute_result"
    }
   ],
   "source": [
    "df['store_primary_category'].nunique()"
   ]
  },
  {
   "cell_type": "code",
   "execution_count": 22,
   "id": "911cbe79",
   "metadata": {},
   "outputs": [
    {
     "data": {
      "text/plain": [
       "american             19346\n",
       "pizza                17274\n",
       "mexican              17050\n",
       "burger               10933\n",
       "sandwich             10037\n",
       "                     ...  \n",
       "lebanese                 9\n",
       "belgian                  2\n",
       "indonesian               2\n",
       "chocolate                1\n",
       "alcohol-plus-food        1\n",
       "Name: store_primary_category, Length: 74, dtype: int64"
      ]
     },
     "execution_count": 22,
     "metadata": {},
     "output_type": "execute_result"
    }
   ],
   "source": [
    "df['store_primary_category'].value_counts()"
   ]
  },
  {
   "cell_type": "code",
   "execution_count": 23,
   "id": "87534d79",
   "metadata": {},
   "outputs": [
    {
     "name": "stderr",
     "output_type": "stream",
     "text": [
      "C:\\Users\\Abhilash\\anaconda3\\lib\\site-packages\\seaborn\\_decorators.py:36: FutureWarning: Pass the following variables as keyword args: x, y. From version 0.12, the only valid positional argument will be `data`, and passing other arguments without an explicit keyword will result in an error or misinterpretation.\n",
      "  warnings.warn(\n"
     ]
    },
    {
     "data": {
      "image/png": "[encoded data removed]",
      "text/plain": [
       "<Figure size 720x432 with 1 Axes>"
      ]
     },
     "metadata": {
      "needs_background": "light"
     },
     "output_type": "display_data"
    }
   ],
   "source": [
    "plt.figure(figsize=(10, 6)) \n",
    "sns.barplot(df['store_primary_category'].value_counts()[:10].index,df['store_primary_category'].value_counts()[:10].values)\n",
    "plt.show()"
   ]
  },
  {
   "cell_type": "code",
   "execution_count": 24,
   "id": "a4f503d4",
   "metadata": {},
   "outputs": [
    {
     "data": {
      "text/plain": [
       "market_id\n",
       "1.0    70\n",
       "2.0    64\n",
       "3.0    65\n",
       "4.0    65\n",
       "5.0    59\n",
       "6.0    62\n",
       "Name: store_primary_category, dtype: int64"
      ]
     },
     "execution_count": 24,
     "metadata": {},
     "output_type": "execute_result"
    }
   ],
   "source": [
    "df['store_primary_category'].groupby(df['market_id']).nunique()"
   ]
  },
  {
   "cell_type": "code",
   "execution_count": 25,
   "id": "bd1cf2bc",
   "metadata": {},
   "outputs": [
    {
     "data": {
      "text/plain": [
       "1.0    54592\n",
       "3.0    53065\n",
       "5.0    44159\n",
       "2.0    23985\n",
       "4.0    19313\n",
       "6.0      793\n",
       "7.0       19\n",
       "Name: order_protocol, dtype: int64"
      ]
     },
     "execution_count": 25,
     "metadata": {},
     "output_type": "execute_result"
    }
   ],
   "source": [
    "df['order_protocol'].value_counts()"
   ]
  },
  {
   "cell_type": "code",
   "execution_count": 26,
   "id": "9ff6c996",
   "metadata": {},
   "outputs": [
    {
     "name": "stderr",
     "output_type": "stream",
     "text": [
      "C:\\Users\\Abhilash\\anaconda3\\lib\\site-packages\\seaborn\\_decorators.py:36: FutureWarning: Pass the following variable as a keyword arg: x. From version 0.12, the only valid positional argument will be `data`, and passing other arguments without an explicit keyword will result in an error or misinterpretation.\n",
      "  warnings.warn(\n"
     ]
    },
    {
     "data": {
      "text/plain": [
       "<AxesSubplot:xlabel='order_protocol', ylabel='count'>"
      ]
     },
     "execution_count": 26,
     "metadata": {},
     "output_type": "execute_result"
    },
    {
     "data": {
      "image/png": "[encoded data removed]",
      "text/plain": [
       "<Figure size 432x288 with 1 Axes>"
      ]
     },
     "metadata": {
      "needs_background": "light"
     },
     "output_type": "display_data"
    }
   ],
   "source": [
    "sns.countplot(df['order_protocol'])"
   ]
  },
  {
   "cell_type": "code",
   "execution_count": 27,
   "id": "9979df68",
   "metadata": {},
   "outputs": [
    {
     "data": {
      "text/plain": [
       "<AxesSubplot:xlabel='total_items', ylabel='Density'>"
      ]
     },
     "execution_count": 27,
     "metadata": {},
     "output_type": "execute_result"
    },
    {
     "data": {
      "image/png": "[encoded data removed]",
      "text/plain": [
       "<Figure size 432x288 with 1 Axes>"
      ]
     },
     "metadata": {
      "needs_background": "light"
     },
     "output_type": "display_data"
    }
   ],
   "source": [
    "sns.kdeplot(df['total_items'])"
   ]
  },
  {
   "cell_type": "code",
   "execution_count": 28,
   "id": "817491c7",
   "metadata": {},
   "outputs": [
    {
     "data": {
      "text/plain": [
       "<AxesSubplot:xlabel='market_id'>"
      ]
     },
     "execution_count": 28,
     "metadata": {},
     "output_type": "execute_result"
    },
    {
     "data": {
      "image/png": "[encoded data removed]",
      "text/plain": [
       "<Figure size 432x288 with 1 Axes>"
      ]
     },
     "metadata": {
      "needs_background": "light"
     },
     "output_type": "display_data"
    }
   ],
   "source": [
    "sns.barplot(x=df['total_items'].groupby(df['market_id']).sum().index,y=df['total_items'].groupby(df['market_id']).sum().values)"
   ]
  },
  {
   "cell_type": "code",
   "execution_count": 29,
   "id": "39c7cd44",
   "metadata": {},
   "outputs": [
    {
     "data": {
      "text/plain": [
       "<AxesSubplot:xlabel='market_id'>"
      ]
     },
     "execution_count": 29,
     "metadata": {},
     "output_type": "execute_result"
    },
    {
     "data": {
      "image/png": "[encoded data removed]",
      "text/plain": [
       "<Figure size 432x288 with 1 Axes>"
      ]
     },
     "metadata": {
      "needs_background": "light"
     },
     "output_type": "display_data"
    }
   ],
   "source": [
    "sns.barplot(x=df['subtotal'].groupby(df['market_id']).sum().index,y=df['subtotal'].groupby(df['market_id']).sum().values)"
   ]
  },
  {
   "cell_type": "code",
   "execution_count": 30,
   "id": "4a12dd86",
   "metadata": {},
   "outputs": [
    {
     "data": {
      "text/plain": [
       "<AxesSubplot:xlabel='min_item_price', ylabel='Density'>"
      ]
     },
     "execution_count": 30,
     "metadata": {},
     "output_type": "execute_result"
    },
    {
     "data": {
      "image/png": "[encoded data removed]",
      "text/plain": [
       "<Figure size 432x288 with 1 Axes>"
      ]
     },
     "metadata": {
      "needs_background": "light"
     },
     "output_type": "display_data"
    }
   ],
   "source": [
    "sns.kdeplot(df['min_item_price'])"
   ]
  },
  {
   "cell_type": "code",
   "execution_count": 31,
   "id": "080fc658",
   "metadata": {},
   "outputs": [
    {
     "data": {
      "text/plain": [
       "<AxesSubplot:xlabel='max_item_price', ylabel='Density'>"
      ]
     },
     "execution_count": 31,
     "metadata": {},
     "output_type": "execute_result"
    },
    {
     "data": {
      "image/png": "[encoded data removed]",
      "text/plain": [
       "<Figure size 432x288 with 1 Axes>"
      ]
     },
     "metadata": {
      "needs_background": "light"
     },
     "output_type": "display_data"
    }
   ],
   "source": [
    "sns.kdeplot(df['max_item_price'])"
   ]
  },
  {
   "cell_type": "code",
   "execution_count": 32,
   "id": "5cf128c2",
   "metadata": {},
   "outputs": [
    {
     "data": {
      "image/png": "[encoded data removed]",
      "text/plain": [
       "<Figure size 432x288 with 1 Axes>"
      ]
     },
     "metadata": {
      "needs_background": "light"
     },
     "output_type": "display_data"
    }
   ],
   "source": [
    "sns.kdeplot(df['total_busy_partners'])\n",
    "plt.title('Distribution of Total Busy Partners')\n",
    "plt.show()"
   ]
  },
  {
   "cell_type": "code",
   "execution_count": 33,
   "id": "8af8b1c9",
   "metadata": {},
   "outputs": [
    {
     "name": "stderr",
     "output_type": "stream",
     "text": [
      "<ipython-input-33-aa4f4450a243>:1: FutureWarning: The default value of numeric_only in DataFrame.corr is deprecated. In a future version, it will default to False. Select only valid columns or specify the value of numeric_only to silence this warning.\n",
      "  sns.heatmap(df.corr())\n"
     ]
    },
    {
     "data": {
      "text/plain": [
       "<AxesSubplot:>"
      ]
     },
     "execution_count": 33,
     "metadata": {},
     "output_type": "execute_result"
    },
    {
     "data": {
      "image/png": "[encoded data removed]",
      "text/plain": [
       "<Figure size 432x288 with 2 Axes>"
      ]
     },
     "metadata": {
      "needs_background": "light"
     },
     "output_type": "display_data"
    }
   ],
   "source": [
    "sns.heatmap(df.corr())"
   ]
  },
  {
   "cell_type": "code",
   "execution_count": null,
   "id": "bc31cd12",
   "metadata": {},
   "outputs": [],
   "source": []
  },
  {
   "cell_type": "markdown",
   "id": "fcc03103",
   "metadata": {},
   "source": [
    "### Outliers detections"
   ]
  },
  {
   "cell_type": "code",
   "execution_count": 34,
   "id": "4dd87ee6",
   "metadata": {},
   "outputs": [
    {
     "name": "stderr",
     "output_type": "stream",
     "text": [
      "C:\\Users\\Abhilash\\anaconda3\\lib\\site-packages\\seaborn\\_decorators.py:36: FutureWarning: Pass the following variable as a keyword arg: x. From version 0.12, the only valid positional argument will be `data`, and passing other arguments without an explicit keyword will result in an error or misinterpretation.\n",
      "  warnings.warn(\n"
     ]
    },
    {
     "data": {
      "text/plain": [
       "<AxesSubplot:xlabel='max_item_price'>"
      ]
     },
     "execution_count": 34,
     "metadata": {},
     "output_type": "execute_result"
    },
    {
     "data": {
      "image/png": "[encoded data removed]",
      "text/plain": [
       "<Figure size 432x288 with 1 Axes>"
      ]
     },
     "metadata": {
      "needs_background": "light"
     },
     "output_type": "display_data"
    }
   ],
   "source": [
    "sns.boxplot(df['max_item_price'])"
   ]
  },
  {
   "cell_type": "code",
   "execution_count": 35,
   "id": "820ddc83",
   "metadata": {},
   "outputs": [
    {
     "name": "stderr",
     "output_type": "stream",
     "text": [
      "C:\\Users\\Abhilash\\anaconda3\\lib\\site-packages\\seaborn\\_decorators.py:36: FutureWarning: Pass the following variable as a keyword arg: x. From version 0.12, the only valid positional argument will be `data`, and passing other arguments without an explicit keyword will result in an error or misinterpretation.\n",
      "  warnings.warn(\n"
     ]
    },
    {
     "data": {
      "text/plain": [
       "<AxesSubplot:xlabel='min_item_price'>"
      ]
     },
     "execution_count": 35,
     "metadata": {},
     "output_type": "execute_result"
    },
    {
     "data": {
      "image/png": "[encoded data removed]",
      "text/plain": [
       "<Figure size 432x288 with 1 Axes>"
      ]
     },
     "metadata": {
      "needs_background": "light"
     },
     "output_type": "display_data"
    }
   ],
   "source": [
    "sns.boxplot(df['min_item_price'])"
   ]
  },
  {
   "cell_type": "code",
   "execution_count": 36,
   "id": "56d3910a",
   "metadata": {},
   "outputs": [
    {
     "name": "stderr",
     "output_type": "stream",
     "text": [
      "C:\\Users\\Abhilash\\anaconda3\\lib\\site-packages\\seaborn\\_decorators.py:36: FutureWarning: Pass the following variable as a keyword arg: x. From version 0.12, the only valid positional argument will be `data`, and passing other arguments without an explicit keyword will result in an error or misinterpretation.\n",
      "  warnings.warn(\n"
     ]
    },
    {
     "data": {
      "text/plain": [
       "<AxesSubplot:xlabel='subtotal'>"
      ]
     },
     "execution_count": 36,
     "metadata": {},
     "output_type": "execute_result"
    },
    {
     "data": {
      "image/png": "[encoded data removed]",
      "text/plain": [
       "<Figure size 432x288 with 1 Axes>"
      ]
     },
     "metadata": {
      "needs_background": "light"
     },
     "output_type": "display_data"
    }
   ],
   "source": [
    "sns.boxplot(df['subtotal'])"
   ]
  },
  {
   "cell_type": "markdown",
   "id": "f1b301b3",
   "metadata": {},
   "source": [
    "### Split data"
   ]
  },
  {
   "cell_type": "code",
   "execution_count": 37,
   "id": "99514532",
   "metadata": {},
   "outputs": [],
   "source": [
    "#Drop featuers\n",
    "df.drop(columns=['created_at','actual_delivery_time'],inplace=True)"
   ]
  },
  {
   "cell_type": "code",
   "execution_count": 38,
   "id": "d332d458",
   "metadata": {},
   "outputs": [],
   "source": [
    "#Split based on market id\n",
    "train_temp_df,test_df = train_test_split(df, test_size=0.10,stratify=df[['market_id']])\n",
    "X_train, val_df = train_test_split(train_temp_df, test_size=0.15,stratify=train_temp_df[['market_id']])"
   ]
  },
  {
   "cell_type": "code",
   "execution_count": 39,
   "id": "515a57ea",
   "metadata": {},
   "outputs": [
    {
     "data": {
      "text/plain": [
       "(150271, 17)"
      ]
     },
     "execution_count": 39,
     "metadata": {},
     "output_type": "execute_result"
    }
   ],
   "source": [
    "X_train.shape"
   ]
  },
  {
   "cell_type": "code",
   "execution_count": 40,
   "id": "3abf5103",
   "metadata": {},
   "outputs": [
    {
     "data": {
      "text/plain": [
       "(19644, 17)"
      ]
     },
     "execution_count": 40,
     "metadata": {},
     "output_type": "execute_result"
    }
   ],
   "source": [
    "test_df.shape"
   ]
  },
  {
   "cell_type": "code",
   "execution_count": 41,
   "id": "de8397bc",
   "metadata": {},
   "outputs": [
    {
     "data": {
      "text/plain": [
       "(26519, 17)"
      ]
     },
     "execution_count": 41,
     "metadata": {},
     "output_type": "execute_result"
    }
   ],
   "source": [
    "val_df.shape"
   ]
  },
  {
   "cell_type": "markdown",
   "id": "96566604",
   "metadata": {},
   "source": [
    "### Null values handlling"
   ]
  },
  {
   "cell_type": "code",
   "execution_count": 42,
   "id": "86dbfc87",
   "metadata": {},
   "outputs": [],
   "source": [
    "total_onshift_partners_median = np.nanmedian(X_train['total_onshift_partners'])\n",
    " \n",
    "total_busy_partners_median = np.nanmedian(X_train['total_busy_partners'])\n",
    "\n",
    "total_outstanding_orders_median = np.nanmedian(X_train['total_outstanding_orders'])\n",
    "\n",
    "X_train['total_onshift_partners']= np.where(X_train['total_onshift_partners'].isna(), total_onshift_partners_median, X_train['total_onshift_partners'])\n",
    "\n",
    "X_train['total_busy_partners']= np.where(X_train['total_busy_partners'].isna(), total_busy_partners_median, X_train['total_busy_partners'])\n",
    "\n",
    "X_train['total_outstanding_orders']= np.where(X_train['total_outstanding_orders'].isna(), total_outstanding_orders_median, X_train['total_outstanding_orders'])"
   ]
  },
  {
   "cell_type": "markdown",
   "id": "beaf8a45",
   "metadata": {},
   "source": [
    "### Target Encoding"
   ]
  },
  {
   "cell_type": "code",
   "execution_count": 43,
   "id": "312ab86f",
   "metadata": {},
   "outputs": [],
   "source": [
    "categorical_columns=['market_id', 'store_id', 'store_primary_category','order_protocol', 'day_of_week_created', 'month_created_at', 'year_created_at', 'hour_of_day_created']"
   ]
  },
  {
   "cell_type": "code",
   "execution_count": 44,
   "id": "1668329a",
   "metadata": {},
   "outputs": [],
   "source": [
    "encoder = ce.TargetEncoder(cols = categorical_columns, handle_missing = 'median') \n",
    "encoder.fit( X = X_train[categorical_columns], y = X_train['delivery_time'])\n",
    "X_train[categorical_columns] = encoder.transform(X_train[categorical_columns]) "
   ]
  },
  {
   "cell_type": "code",
   "execution_count": 45,
   "id": "7a7d5598",
   "metadata": {},
   "outputs": [
    {
     "name": "stdout",
     "output_type": "stream",
     "text": [
      "market_id ---------------> 0 Null values\n",
      "store_id ---------------> 0 Null values\n",
      "store_primary_category ---------------> 0 Null values\n",
      "order_protocol ---------------> 0 Null values\n",
      "total_items ---------------> 0 Null values\n",
      "subtotal ---------------> 0 Null values\n",
      "num_distinct_items ---------------> 0 Null values\n",
      "min_item_price ---------------> 0 Null values\n",
      "max_item_price ---------------> 0 Null values\n",
      "total_onshift_partners ---------------> 0 Null values\n",
      "total_busy_partners ---------------> 0 Null values\n",
      "total_outstanding_orders ---------------> 0 Null values\n",
      "delivery_time ---------------> 0 Null values\n",
      "hour_of_day_created ---------------> 0 Null values\n",
      "day_of_week_created ---------------> 0 Null values\n",
      "month_created_at ---------------> 0 Null values\n",
      "year_created_at ---------------> 0 Null values\n"
     ]
    }
   ],
   "source": [
    "for i in X_train.columns:\n",
    "    print(i,\"--------------->\",sum(X_train[i].isna()),\"Null values\")\n",
    "    "
   ]
  },
  {
   "cell_type": "code",
   "execution_count": 46,
   "id": "02bbecc8",
   "metadata": {},
   "outputs": [],
   "source": [
    "y_Train=X_train['delivery_time']\n",
    "X_train.drop(columns=['delivery_time'],inplace=True)"
   ]
  },
  {
   "cell_type": "code",
   "execution_count": 47,
   "id": "7ba87613",
   "metadata": {},
   "outputs": [],
   "source": [
    "scaler = StandardScaler()\n",
    "standardized_data = scaler.fit_transform(X_train)\n",
    "Xtrain_standardized_df = pd.DataFrame(standardized_data, columns=X_train.columns)"
   ]
  },
  {
   "cell_type": "markdown",
   "id": "d1b0bca5",
   "metadata": {},
   "source": [
    "### Scaling and outliers removal [3,-3] z-values  before and after"
   ]
  },
  {
   "cell_type": "code",
   "execution_count": 48,
   "id": "831ac84d",
   "metadata": {},
   "outputs": [],
   "source": [
    "\n",
    "outliers_mask=(np.abs(Xtrain_standardized_df) > 3).any(axis=1)\n",
    "Xtrain_standardized_df['delivery_time']=y_Train.tolist()\n",
    "Xtrain_standardized_df_no_out = Xtrain_standardized_df[~outliers_mask]"
   ]
  },
  {
   "cell_type": "code",
   "execution_count": 49,
   "id": "a55bbfbc",
   "metadata": {},
   "outputs": [
    {
     "data": {
      "text/plain": [
       "2.967375470913495"
      ]
     },
     "execution_count": 49,
     "metadata": {},
     "output_type": "execute_result"
    }
   ],
   "source": [
    "Xtrain_standardized_df_no_out['max_item_price'].max()"
   ]
  },
  {
   "cell_type": "code",
   "execution_count": 50,
   "id": "2f092d3f",
   "metadata": {},
   "outputs": [],
   "source": [
    "y_Train=Xtrain_standardized_df_no_out['delivery_time'].tolist()\n",
    "Xtrain_std=Xtrain_standardized_df_no_out.drop(columns=['delivery_time'])"
   ]
  },
  {
   "cell_type": "code",
   "execution_count": 51,
   "id": "b81393d3",
   "metadata": {},
   "outputs": [
    {
     "name": "stderr",
     "output_type": "stream",
     "text": [
      "C:\\Users\\Abhilash\\anaconda3\\lib\\site-packages\\seaborn\\_decorators.py:36: FutureWarning: Pass the following variable as a keyword arg: x. From version 0.12, the only valid positional argument will be `data`, and passing other arguments without an explicit keyword will result in an error or misinterpretation.\n",
      "  warnings.warn(\n"
     ]
    },
    {
     "data": {
      "text/plain": [
       "<AxesSubplot:xlabel='max_item_price'>"
      ]
     },
     "execution_count": 51,
     "metadata": {},
     "output_type": "execute_result"
    },
    {
     "data": {
      "image/png": "[encoded data removed]",
      "text/plain": [
       "<Figure size 432x288 with 1 Axes>"
      ]
     },
     "metadata": {
      "needs_background": "light"
     },
     "output_type": "display_data"
    }
   ],
   "source": [
    "sns.boxplot(df['max_item_price'])"
   ]
  },
  {
   "cell_type": "code",
   "execution_count": 52,
   "id": "01eb11f1",
   "metadata": {},
   "outputs": [
    {
     "name": "stderr",
     "output_type": "stream",
     "text": [
      "C:\\Users\\Abhilash\\anaconda3\\lib\\site-packages\\seaborn\\_decorators.py:36: FutureWarning: Pass the following variable as a keyword arg: x. From version 0.12, the only valid positional argument will be `data`, and passing other arguments without an explicit keyword will result in an error or misinterpretation.\n",
      "  warnings.warn(\n"
     ]
    },
    {
     "data": {
      "text/plain": [
       "<AxesSubplot:xlabel='max_item_price'>"
      ]
     },
     "execution_count": 52,
     "metadata": {},
     "output_type": "execute_result"
    },
    {
     "data": {
      "image/png": "[encoded data removed]",
      "text/plain": [
       "<Figure size 432x288 with 1 Axes>"
      ]
     },
     "metadata": {
      "needs_background": "light"
     },
     "output_type": "display_data"
    }
   ],
   "source": [
    "sns.boxplot(Xtrain_standardized_df_no_out['max_item_price'])"
   ]
  },
  {
   "cell_type": "code",
   "execution_count": 53,
   "id": "1060a649",
   "metadata": {},
   "outputs": [
    {
     "name": "stderr",
     "output_type": "stream",
     "text": [
      "C:\\Users\\Abhilash\\anaconda3\\lib\\site-packages\\seaborn\\_decorators.py:36: FutureWarning: Pass the following variable as a keyword arg: x. From version 0.12, the only valid positional argument will be `data`, and passing other arguments without an explicit keyword will result in an error or misinterpretation.\n",
      "  warnings.warn(\n"
     ]
    },
    {
     "data": {
      "text/plain": [
       "<AxesSubplot:xlabel='min_item_price'>"
      ]
     },
     "execution_count": 53,
     "metadata": {},
     "output_type": "execute_result"
    },
    {
     "data": {
      "image/png": "[encoded data removed]",
      "text/plain": [
       "<Figure size 432x288 with 1 Axes>"
      ]
     },
     "metadata": {
      "needs_background": "light"
     },
     "output_type": "display_data"
    }
   ],
   "source": [
    "sns.boxplot(df['min_item_price'])"
   ]
  },
  {
   "cell_type": "code",
   "execution_count": 54,
   "id": "80f9d3b5",
   "metadata": {},
   "outputs": [
    {
     "name": "stderr",
     "output_type": "stream",
     "text": [
      "C:\\Users\\Abhilash\\anaconda3\\lib\\site-packages\\seaborn\\_decorators.py:36: FutureWarning: Pass the following variable as a keyword arg: x. From version 0.12, the only valid positional argument will be `data`, and passing other arguments without an explicit keyword will result in an error or misinterpretation.\n",
      "  warnings.warn(\n"
     ]
    },
    {
     "data": {
      "text/plain": [
       "<AxesSubplot:xlabel='min_item_price'>"
      ]
     },
     "execution_count": 54,
     "metadata": {},
     "output_type": "execute_result"
    },
    {
     "data": {
      "image/png": "[encoded data removed]",
      "text/plain": [
       "<Figure size 432x288 with 1 Axes>"
      ]
     },
     "metadata": {
      "needs_background": "light"
     },
     "output_type": "display_data"
    }
   ],
   "source": [
    "sns.boxplot(Xtrain_standardized_df_no_out['min_item_price'])"
   ]
  },
  {
   "cell_type": "code",
   "execution_count": 55,
   "id": "836b8e12",
   "metadata": {},
   "outputs": [
    {
     "name": "stderr",
     "output_type": "stream",
     "text": [
      "C:\\Users\\Abhilash\\anaconda3\\lib\\site-packages\\seaborn\\_decorators.py:36: FutureWarning: Pass the following variable as a keyword arg: x. From version 0.12, the only valid positional argument will be `data`, and passing other arguments without an explicit keyword will result in an error or misinterpretation.\n",
      "  warnings.warn(\n"
     ]
    },
    {
     "data": {
      "text/plain": [
       "<AxesSubplot:xlabel='subtotal'>"
      ]
     },
     "execution_count": 55,
     "metadata": {},
     "output_type": "execute_result"
    },
    {
     "data": {
      "image/png": "[encoded data removed]",
      "text/plain": [
       "<Figure size 432x288 with 1 Axes>"
      ]
     },
     "metadata": {
      "needs_background": "light"
     },
     "output_type": "display_data"
    }
   ],
   "source": [
    "sns.boxplot(df['subtotal'])"
   ]
  },
  {
   "cell_type": "code",
   "execution_count": 56,
   "id": "c21f048b",
   "metadata": {},
   "outputs": [
    {
     "name": "stderr",
     "output_type": "stream",
     "text": [
      "C:\\Users\\Abhilash\\anaconda3\\lib\\site-packages\\seaborn\\_decorators.py:36: FutureWarning: Pass the following variable as a keyword arg: x. From version 0.12, the only valid positional argument will be `data`, and passing other arguments without an explicit keyword will result in an error or misinterpretation.\n",
      "  warnings.warn(\n"
     ]
    },
    {
     "data": {
      "text/plain": [
       "<AxesSubplot:xlabel='subtotal'>"
      ]
     },
     "execution_count": 56,
     "metadata": {},
     "output_type": "execute_result"
    },
    {
     "data": {
      "image/png": "[encoded data removed]",
      "text/plain": [
       "<Figure size 432x288 with 1 Axes>"
      ]
     },
     "metadata": {
      "needs_background": "light"
     },
     "output_type": "display_data"
    }
   ],
   "source": [
    "sns.boxplot(Xtrain_standardized_df_no_out['subtotal'])"
   ]
  },
  {
   "cell_type": "markdown",
   "id": "4d5ad0ec",
   "metadata": {},
   "source": [
    "### Preprocess of validation data"
   ]
  },
  {
   "cell_type": "code",
   "execution_count": 57,
   "id": "edc7e8e3",
   "metadata": {},
   "outputs": [
    {
     "name": "stderr",
     "output_type": "stream",
     "text": [
      "<ipython-input-57-29cc50b66391>:5: DeprecationWarning: In a future version, `df.iloc[:, i] = newvals` will attempt to set the values inplace instead of always setting a new array. To retain the old behavior, use either `df[df.columns[i]] = newvals` or, if columns are non-unique, `df.isetitem(i, newvals)`\n",
      "  val_df.loc[:, categorical_columns] = encoder.transform(val_df[categorical_columns])\n"
     ]
    }
   ],
   "source": [
    "val_df.dropna(subset=[\"market_id\"],inplace=True)\n",
    "val_df['total_onshift_partners']= np.where(val_df['total_onshift_partners'].isna(), total_onshift_partners_median, val_df['total_onshift_partners'])\n",
    "val_df['total_busy_partners']= np.where(val_df['total_busy_partners'].isna(), total_busy_partners_median, val_df['total_busy_partners'])\n",
    "val_df['total_outstanding_orders']= np.where(val_df['total_outstanding_orders'].isna(), total_outstanding_orders_median, val_df['total_outstanding_orders'])\n",
    "val_df.loc[:, categorical_columns] = encoder.transform(val_df[categorical_columns])\n",
    "y_vald=val_df['delivery_time'].tolist()\n",
    "val_df.drop(columns=['delivery_time'],inplace=True)\n",
    "xval_std=scaler.transform(val_df)\n",
    "x_val_std = pd.DataFrame(xval_std, columns=val_df.columns)"
   ]
  },
  {
   "cell_type": "code",
   "execution_count": 58,
   "id": "e18dd07f",
   "metadata": {},
   "outputs": [
    {
     "data": {
      "text/html": [
       "<div>\n",
       "<style scoped>\n",
       "    .dataframe tbody tr th:only-of-type {\n",
       "        vertical-align: middle;\n",
       "    }\n",
       "\n",
       "    .dataframe tbody tr th {\n",
       "        vertical-align: top;\n",
       "    }\n",
       "\n",
       "    .dataframe thead th {\n",
       "        text-align: right;\n",
       "    }\n",
       "</style>\n",
       "<table border=\"1\" class=\"dataframe\">\n",
       "  <thead>\n",
       "    <tr style=\"text-align: right;\">\n",
       "      <th></th>\n",
       "      <th>market_id</th>\n",
       "      <th>store_id</th>\n",
       "      <th>store_primary_category</th>\n",
       "      <th>order_protocol</th>\n",
       "      <th>total_items</th>\n",
       "      <th>subtotal</th>\n",
       "      <th>num_distinct_items</th>\n",
       "      <th>min_item_price</th>\n",
       "      <th>max_item_price</th>\n",
       "      <th>total_onshift_partners</th>\n",
       "      <th>total_busy_partners</th>\n",
       "      <th>total_outstanding_orders</th>\n",
       "      <th>hour_of_day_created</th>\n",
       "      <th>day_of_week_created</th>\n",
       "      <th>month_created_at</th>\n",
       "      <th>year_created_at</th>\n",
       "    </tr>\n",
       "  </thead>\n",
       "  <tbody>\n",
       "    <tr>\n",
       "      <th>0</th>\n",
       "      <td>-0.715133</td>\n",
       "      <td>-0.297462</td>\n",
       "      <td>-0.805619</td>\n",
       "      <td>-0.104170</td>\n",
       "      <td>0.297925</td>\n",
       "      <td>-0.411916</td>\n",
       "      <td>0.817400</td>\n",
       "      <td>-0.807478</td>\n",
       "      <td>-0.896643</td>\n",
       "      <td>-0.216464</td>\n",
       "      <td>-0.295389</td>\n",
       "      <td>-0.289294</td>\n",
       "      <td>-1.255860</td>\n",
       "      <td>-1.135928</td>\n",
       "      <td>0.015152</td>\n",
       "      <td>-0.00258</td>\n",
       "    </tr>\n",
       "    <tr>\n",
       "      <th>1</th>\n",
       "      <td>2.011379</td>\n",
       "      <td>-0.044335</td>\n",
       "      <td>0.074460</td>\n",
       "      <td>-0.104170</td>\n",
       "      <td>-0.807121</td>\n",
       "      <td>-0.949852</td>\n",
       "      <td>-1.024382</td>\n",
       "      <td>0.502243</td>\n",
       "      <td>-0.377516</td>\n",
       "      <td>-0.095676</td>\n",
       "      <td>-0.003529</td>\n",
       "      <td>-0.131277</td>\n",
       "      <td>-0.689385</td>\n",
       "      <td>0.415721</td>\n",
       "      <td>0.015152</td>\n",
       "      <td>-0.00258</td>\n",
       "    </tr>\n",
       "    <tr>\n",
       "      <th>2</th>\n",
       "      <td>-0.715133</td>\n",
       "      <td>-0.204664</td>\n",
       "      <td>-0.285447</td>\n",
       "      <td>-0.539753</td>\n",
       "      <td>0.666273</td>\n",
       "      <td>0.197781</td>\n",
       "      <td>1.431327</td>\n",
       "      <td>-0.876310</td>\n",
       "      <td>-0.468497</td>\n",
       "      <td>1.534968</td>\n",
       "      <td>1.423342</td>\n",
       "      <td>0.876083</td>\n",
       "      <td>1.039888</td>\n",
       "      <td>-1.240809</td>\n",
       "      <td>0.015152</td>\n",
       "      <td>-0.00258</td>\n",
       "    </tr>\n",
       "    <tr>\n",
       "      <th>3</th>\n",
       "      <td>-0.326467</td>\n",
       "      <td>-0.094179</td>\n",
       "      <td>-0.285447</td>\n",
       "      <td>-0.976103</td>\n",
       "      <td>-0.070424</td>\n",
       "      <td>0.389510</td>\n",
       "      <td>0.203473</td>\n",
       "      <td>-0.176518</td>\n",
       "      <td>0.380659</td>\n",
       "      <td>-0.035282</td>\n",
       "      <td>0.580191</td>\n",
       "      <td>-0.309047</td>\n",
       "      <td>0.044118</td>\n",
       "      <td>0.870296</td>\n",
       "      <td>-0.035926</td>\n",
       "      <td>-0.00258</td>\n",
       "    </tr>\n",
       "    <tr>\n",
       "      <th>4</th>\n",
       "      <td>2.011379</td>\n",
       "      <td>0.023229</td>\n",
       "      <td>-0.158544</td>\n",
       "      <td>1.494090</td>\n",
       "      <td>0.297925</td>\n",
       "      <td>-0.320982</td>\n",
       "      <td>0.817400</td>\n",
       "      <td>-1.122959</td>\n",
       "      <td>-0.646891</td>\n",
       "      <td>-1.061983</td>\n",
       "      <td>-1.008825</td>\n",
       "      <td>-0.842355</td>\n",
       "      <td>-0.832018</td>\n",
       "      <td>-1.240809</td>\n",
       "      <td>-0.035926</td>\n",
       "      <td>-0.00258</td>\n",
       "    </tr>\n",
       "    <tr>\n",
       "      <th>...</th>\n",
       "      <td>...</td>\n",
       "      <td>...</td>\n",
       "      <td>...</td>\n",
       "      <td>...</td>\n",
       "      <td>...</td>\n",
       "      <td>...</td>\n",
       "      <td>...</td>\n",
       "      <td>...</td>\n",
       "      <td>...</td>\n",
       "      <td>...</td>\n",
       "      <td>...</td>\n",
       "      <td>...</td>\n",
       "      <td>...</td>\n",
       "      <td>...</td>\n",
       "      <td>...</td>\n",
       "      <td>...</td>\n",
       "    </tr>\n",
       "    <tr>\n",
       "      <th>26514</th>\n",
       "      <td>-0.326467</td>\n",
       "      <td>-0.016997</td>\n",
       "      <td>-0.729160</td>\n",
       "      <td>-0.539753</td>\n",
       "      <td>-0.070424</td>\n",
       "      <td>0.008792</td>\n",
       "      <td>-0.410455</td>\n",
       "      <td>-0.119158</td>\n",
       "      <td>0.514455</td>\n",
       "      <td>0.357281</td>\n",
       "      <td>1.455771</td>\n",
       "      <td>0.224261</td>\n",
       "      <td>-0.750386</td>\n",
       "      <td>0.870296</td>\n",
       "      <td>-0.035926</td>\n",
       "      <td>-0.00258</td>\n",
       "    </tr>\n",
       "    <tr>\n",
       "      <th>26515</th>\n",
       "      <td>-0.275646</td>\n",
       "      <td>-0.010616</td>\n",
       "      <td>-0.314903</td>\n",
       "      <td>-0.976103</td>\n",
       "      <td>0.666273</td>\n",
       "      <td>2.060288</td>\n",
       "      <td>0.203473</td>\n",
       "      <td>0.882732</td>\n",
       "      <td>0.423474</td>\n",
       "      <td>-0.518435</td>\n",
       "      <td>-0.457534</td>\n",
       "      <td>-0.842355</td>\n",
       "      <td>1.039888</td>\n",
       "      <td>1.546502</td>\n",
       "      <td>0.015152</td>\n",
       "      <td>-0.00258</td>\n",
       "    </tr>\n",
       "    <tr>\n",
       "      <th>26516</th>\n",
       "      <td>-0.326467</td>\n",
       "      <td>0.193125</td>\n",
       "      <td>0.559896</td>\n",
       "      <td>-0.976103</td>\n",
       "      <td>2.508015</td>\n",
       "      <td>0.529198</td>\n",
       "      <td>1.431327</td>\n",
       "      <td>-0.931759</td>\n",
       "      <td>-1.001896</td>\n",
       "      <td>1.414180</td>\n",
       "      <td>1.553058</td>\n",
       "      <td>1.705673</td>\n",
       "      <td>1.039888</td>\n",
       "      <td>-1.240809</td>\n",
       "      <td>0.015152</td>\n",
       "      <td>-0.00258</td>\n",
       "    </tr>\n",
       "    <tr>\n",
       "      <th>26517</th>\n",
       "      <td>2.011379</td>\n",
       "      <td>-0.056174</td>\n",
       "      <td>-0.158544</td>\n",
       "      <td>1.494090</td>\n",
       "      <td>-0.070424</td>\n",
       "      <td>1.022215</td>\n",
       "      <td>0.203473</td>\n",
       "      <td>0.502243</td>\n",
       "      <td>1.228032</td>\n",
       "      <td>-0.005084</td>\n",
       "      <td>0.093757</td>\n",
       "      <td>-0.091773</td>\n",
       "      <td>1.039888</td>\n",
       "      <td>-0.465634</td>\n",
       "      <td>-0.035926</td>\n",
       "      <td>-0.00258</td>\n",
       "    </tr>\n",
       "    <tr>\n",
       "      <th>26518</th>\n",
       "      <td>-0.573734</td>\n",
       "      <td>-0.123423</td>\n",
       "      <td>-0.108419</td>\n",
       "      <td>-0.539753</td>\n",
       "      <td>0.297925</td>\n",
       "      <td>-0.517093</td>\n",
       "      <td>0.817400</td>\n",
       "      <td>-1.122959</td>\n",
       "      <td>-0.654027</td>\n",
       "      <td>-0.609027</td>\n",
       "      <td>-0.587249</td>\n",
       "      <td>-0.546072</td>\n",
       "      <td>-1.217616</td>\n",
       "      <td>1.546502</td>\n",
       "      <td>0.015152</td>\n",
       "      <td>-0.00258</td>\n",
       "    </tr>\n",
       "  </tbody>\n",
       "</table>\n",
       "<p>26519 rows × 16 columns</p>\n",
       "</div>"
      ],
      "text/plain": [
       "       market_id  store_id  store_primary_category  order_protocol  \\\n",
       "0      -0.715133 -0.297462               -0.805619       -0.104170   \n",
       "1       2.011379 -0.044335                0.074460       -0.104170   \n",
       "2      -0.715133 -0.204664               -0.285447       -0.539753   \n",
       "3      -0.326467 -0.094179               -0.285447       -0.976103   \n",
       "4       2.011379  0.023229               -0.158544        1.494090   \n",
       "...          ...       ...                     ...             ...   \n",
       "26514  -0.326467 -0.016997               -0.729160       -0.539753   \n",
       "26515  -0.275646 -0.010616               -0.314903       -0.976103   \n",
       "26516  -0.326467  0.193125                0.559896       -0.976103   \n",
       "26517   2.011379 -0.056174               -0.158544        1.494090   \n",
       "26518  -0.573734 -0.123423               -0.108419       -0.539753   \n",
       "\n",
       "       total_items  subtotal  num_distinct_items  min_item_price  \\\n",
       "0         0.297925 -0.411916            0.817400       -0.807478   \n",
       "1        -0.807121 -0.949852           -1.024382        0.502243   \n",
       "2         0.666273  0.197781            1.431327       -0.876310   \n",
       "3        -0.070424  0.389510            0.203473       -0.176518   \n",
       "4         0.297925 -0.320982            0.817400       -1.122959   \n",
       "...            ...       ...                 ...             ...   \n",
       "26514    -0.070424  0.008792           -0.410455       -0.119158   \n",
       "26515     0.666273  2.060288            0.203473        0.882732   \n",
       "26516     2.508015  0.529198            1.431327       -0.931759   \n",
       "26517    -0.070424  1.022215            0.203473        0.502243   \n",
       "26518     0.297925 -0.517093            0.817400       -1.122959   \n",
       "\n",
       "       max_item_price  total_onshift_partners  total_busy_partners  \\\n",
       "0           -0.896643               -0.216464            -0.295389   \n",
       "1           -0.377516               -0.095676            -0.003529   \n",
       "2           -0.468497                1.534968             1.423342   \n",
       "3            0.380659               -0.035282             0.580191   \n",
       "4           -0.646891               -1.061983            -1.008825   \n",
       "...               ...                     ...                  ...   \n",
       "26514        0.514455                0.357281             1.455771   \n",
       "26515        0.423474               -0.518435            -0.457534   \n",
       "26516       -1.001896                1.414180             1.553058   \n",
       "26517        1.228032               -0.005084             0.093757   \n",
       "26518       -0.654027               -0.609027            -0.587249   \n",
       "\n",
       "       total_outstanding_orders  hour_of_day_created  day_of_week_created  \\\n",
       "0                     -0.289294            -1.255860            -1.135928   \n",
       "1                     -0.131277            -0.689385             0.415721   \n",
       "2                      0.876083             1.039888            -1.240809   \n",
       "3                     -0.309047             0.044118             0.870296   \n",
       "4                     -0.842355            -0.832018            -1.240809   \n",
       "...                         ...                  ...                  ...   \n",
       "26514                  0.224261            -0.750386             0.870296   \n",
       "26515                 -0.842355             1.039888             1.546502   \n",
       "26516                  1.705673             1.039888            -1.240809   \n",
       "26517                 -0.091773             1.039888            -0.465634   \n",
       "26518                 -0.546072            -1.217616             1.546502   \n",
       "\n",
       "       month_created_at  year_created_at  \n",
       "0              0.015152         -0.00258  \n",
       "1              0.015152         -0.00258  \n",
       "2              0.015152         -0.00258  \n",
       "3             -0.035926         -0.00258  \n",
       "4             -0.035926         -0.00258  \n",
       "...                 ...              ...  \n",
       "26514         -0.035926         -0.00258  \n",
       "26515          0.015152         -0.00258  \n",
       "26516          0.015152         -0.00258  \n",
       "26517         -0.035926         -0.00258  \n",
       "26518          0.015152         -0.00258  \n",
       "\n",
       "[26519 rows x 16 columns]"
      ]
     },
     "execution_count": 58,
     "metadata": {},
     "output_type": "execute_result"
    }
   ],
   "source": [
    "x_val_std"
   ]
  },
  {
   "cell_type": "code",
   "execution_count": 59,
   "id": "dddd877f",
   "metadata": {},
   "outputs": [
    {
     "data": {
      "text/plain": [
       "26519"
      ]
     },
     "execution_count": 59,
     "metadata": {},
     "output_type": "execute_result"
    }
   ],
   "source": [
    "len(y_vald)"
   ]
  },
  {
   "cell_type": "markdown",
   "id": "58dc42c4",
   "metadata": {},
   "source": [
    "### Preprocess of test data"
   ]
  },
  {
   "cell_type": "code",
   "execution_count": 60,
   "id": "a6338a96",
   "metadata": {},
   "outputs": [
    {
     "name": "stderr",
     "output_type": "stream",
     "text": [
      "<ipython-input-60-e46f7d6e7f40>:5: DeprecationWarning: In a future version, `df.iloc[:, i] = newvals` will attempt to set the values inplace instead of always setting a new array. To retain the old behavior, use either `df[df.columns[i]] = newvals` or, if columns are non-unique, `df.isetitem(i, newvals)`\n",
      "  test_df.loc[:, categorical_columns] = encoder.transform(test_df[categorical_columns])\n"
     ]
    }
   ],
   "source": [
    "test_df.dropna(subset=[\"market_id\"],inplace=True)\n",
    "test_df['total_onshift_partners']= np.where(test_df['total_onshift_partners'].isna(), total_onshift_partners_median, test_df['total_onshift_partners'])\n",
    "test_df['total_busy_partners']= np.where(test_df['total_busy_partners'].isna(), total_busy_partners_median, test_df['total_busy_partners'])\n",
    "test_df['total_outstanding_orders']= np.where(test_df['total_outstanding_orders'].isna(), total_outstanding_orders_median, test_df['total_outstanding_orders'])\n",
    "test_df.loc[:, categorical_columns] = encoder.transform(test_df[categorical_columns])\n",
    "y_test=test_df['delivery_time'].tolist()\n",
    "test_df.drop(columns=['delivery_time'],inplace=True)\n",
    "xtest_std=scaler.transform(test_df)\n",
    "x_test_std = pd.DataFrame(xtest_std, columns=test_df.columns)"
   ]
  },
  {
   "cell_type": "code",
   "execution_count": 61,
   "id": "40c59bca",
   "metadata": {},
   "outputs": [
    {
     "data": {
      "text/html": [
       "<div>\n",
       "<style scoped>\n",
       "    .dataframe tbody tr th:only-of-type {\n",
       "        vertical-align: middle;\n",
       "    }\n",
       "\n",
       "    .dataframe tbody tr th {\n",
       "        vertical-align: top;\n",
       "    }\n",
       "\n",
       "    .dataframe thead th {\n",
       "        text-align: right;\n",
       "    }\n",
       "</style>\n",
       "<table border=\"1\" class=\"dataframe\">\n",
       "  <thead>\n",
       "    <tr style=\"text-align: right;\">\n",
       "      <th></th>\n",
       "      <th>market_id</th>\n",
       "      <th>store_id</th>\n",
       "      <th>store_primary_category</th>\n",
       "      <th>order_protocol</th>\n",
       "      <th>total_items</th>\n",
       "      <th>subtotal</th>\n",
       "      <th>num_distinct_items</th>\n",
       "      <th>min_item_price</th>\n",
       "      <th>max_item_price</th>\n",
       "      <th>total_onshift_partners</th>\n",
       "      <th>total_busy_partners</th>\n",
       "      <th>total_outstanding_orders</th>\n",
       "      <th>hour_of_day_created</th>\n",
       "      <th>day_of_week_created</th>\n",
       "      <th>month_created_at</th>\n",
       "      <th>year_created_at</th>\n",
       "    </tr>\n",
       "  </thead>\n",
       "  <tbody>\n",
       "    <tr>\n",
       "      <th>0</th>\n",
       "      <td>-0.326467</td>\n",
       "      <td>-0.116663</td>\n",
       "      <td>-0.190953</td>\n",
       "      <td>-0.539753</td>\n",
       "      <td>-0.807121</td>\n",
       "      <td>-0.429445</td>\n",
       "      <td>-1.024382</td>\n",
       "      <td>2.318645</td>\n",
       "      <td>1.317229</td>\n",
       "      <td>1.021617</td>\n",
       "      <td>1.131482</td>\n",
       "      <td>0.915587</td>\n",
       "      <td>1.039888</td>\n",
       "      <td>-1.240809</td>\n",
       "      <td>0.015152</td>\n",
       "      <td>-0.00258</td>\n",
       "    </tr>\n",
       "    <tr>\n",
       "      <th>1</th>\n",
       "      <td>-0.573734</td>\n",
       "      <td>-0.045683</td>\n",
       "      <td>-0.158544</td>\n",
       "      <td>-0.104170</td>\n",
       "      <td>-0.070424</td>\n",
       "      <td>-0.734568</td>\n",
       "      <td>-0.410455</td>\n",
       "      <td>-0.719526</td>\n",
       "      <td>-1.151747</td>\n",
       "      <td>-1.031786</td>\n",
       "      <td>-1.041254</td>\n",
       "      <td>-0.941116</td>\n",
       "      <td>-0.733774</td>\n",
       "      <td>0.415721</td>\n",
       "      <td>-0.035926</td>\n",
       "      <td>-0.00258</td>\n",
       "    </tr>\n",
       "    <tr>\n",
       "      <th>2</th>\n",
       "      <td>2.011379</td>\n",
       "      <td>0.183929</td>\n",
       "      <td>0.355420</td>\n",
       "      <td>-0.539753</td>\n",
       "      <td>2.876364</td>\n",
       "      <td>3.070424</td>\n",
       "      <td>1.431327</td>\n",
       "      <td>-0.742470</td>\n",
       "      <td>0.423474</td>\n",
       "      <td>-0.035282</td>\n",
       "      <td>0.353189</td>\n",
       "      <td>-0.032517</td>\n",
       "      <td>0.638079</td>\n",
       "      <td>-1.135928</td>\n",
       "      <td>-0.035926</td>\n",
       "      <td>-0.00258</td>\n",
       "    </tr>\n",
       "    <tr>\n",
       "      <th>3</th>\n",
       "      <td>2.011379</td>\n",
       "      <td>-0.073674</td>\n",
       "      <td>-0.200437</td>\n",
       "      <td>-0.539753</td>\n",
       "      <td>-0.807121</td>\n",
       "      <td>0.334730</td>\n",
       "      <td>-1.024382</td>\n",
       "      <td>4.985889</td>\n",
       "      <td>3.805828</td>\n",
       "      <td>-0.186267</td>\n",
       "      <td>-0.133245</td>\n",
       "      <td>0.046492</td>\n",
       "      <td>0.638079</td>\n",
       "      <td>-0.693397</td>\n",
       "      <td>0.015152</td>\n",
       "      <td>-0.00258</td>\n",
       "    </tr>\n",
       "    <tr>\n",
       "      <th>4</th>\n",
       "      <td>-0.275646</td>\n",
       "      <td>0.097824</td>\n",
       "      <td>0.535163</td>\n",
       "      <td>1.494090</td>\n",
       "      <td>-0.807121</td>\n",
       "      <td>-0.867682</td>\n",
       "      <td>-1.024382</td>\n",
       "      <td>0.789044</td>\n",
       "      <td>-0.109925</td>\n",
       "      <td>0.206295</td>\n",
       "      <td>0.255902</td>\n",
       "      <td>-0.210286</td>\n",
       "      <td>0.638079</td>\n",
       "      <td>0.415721</td>\n",
       "      <td>-0.035926</td>\n",
       "      <td>-0.00258</td>\n",
       "    </tr>\n",
       "    <tr>\n",
       "      <th>...</th>\n",
       "      <td>...</td>\n",
       "      <td>...</td>\n",
       "      <td>...</td>\n",
       "      <td>...</td>\n",
       "      <td>...</td>\n",
       "      <td>...</td>\n",
       "      <td>...</td>\n",
       "      <td>...</td>\n",
       "      <td>...</td>\n",
       "      <td>...</td>\n",
       "      <td>...</td>\n",
       "      <td>...</td>\n",
       "      <td>...</td>\n",
       "      <td>...</td>\n",
       "      <td>...</td>\n",
       "      <td>...</td>\n",
       "    </tr>\n",
       "    <tr>\n",
       "      <th>19639</th>\n",
       "      <td>-0.573734</td>\n",
       "      <td>-0.309548</td>\n",
       "      <td>0.074460</td>\n",
       "      <td>-0.976103</td>\n",
       "      <td>-0.807121</td>\n",
       "      <td>-1.004631</td>\n",
       "      <td>-1.024382</td>\n",
       "      <td>0.311043</td>\n",
       "      <td>-0.555910</td>\n",
       "      <td>-1.273363</td>\n",
       "      <td>-1.235827</td>\n",
       "      <td>-1.059628</td>\n",
       "      <td>-0.688115</td>\n",
       "      <td>-1.240809</td>\n",
       "      <td>0.015152</td>\n",
       "      <td>-0.00258</td>\n",
       "    </tr>\n",
       "    <tr>\n",
       "      <th>19640</th>\n",
       "      <td>-0.573734</td>\n",
       "      <td>-0.127351</td>\n",
       "      <td>-0.158544</td>\n",
       "      <td>1.494090</td>\n",
       "      <td>-0.807121</td>\n",
       "      <td>-0.870421</td>\n",
       "      <td>-1.024382</td>\n",
       "      <td>0.779484</td>\n",
       "      <td>-0.118845</td>\n",
       "      <td>-0.427844</td>\n",
       "      <td>-0.392676</td>\n",
       "      <td>-0.388055</td>\n",
       "      <td>0.044118</td>\n",
       "      <td>-1.240809</td>\n",
       "      <td>0.015152</td>\n",
       "      <td>-0.00258</td>\n",
       "    </tr>\n",
       "    <tr>\n",
       "      <th>19641</th>\n",
       "      <td>-0.715133</td>\n",
       "      <td>-0.111815</td>\n",
       "      <td>0.355420</td>\n",
       "      <td>-0.976103</td>\n",
       "      <td>-0.438772</td>\n",
       "      <td>-0.441497</td>\n",
       "      <td>-0.410455</td>\n",
       "      <td>-0.360070</td>\n",
       "      <td>0.387795</td>\n",
       "      <td>1.202800</td>\n",
       "      <td>1.358484</td>\n",
       "      <td>1.034100</td>\n",
       "      <td>0.638079</td>\n",
       "      <td>-1.240809</td>\n",
       "      <td>0.015152</td>\n",
       "      <td>-0.00258</td>\n",
       "    </tr>\n",
       "    <tr>\n",
       "      <th>19642</th>\n",
       "      <td>-0.275646</td>\n",
       "      <td>-0.152737</td>\n",
       "      <td>-0.202594</td>\n",
       "      <td>1.494090</td>\n",
       "      <td>-0.438772</td>\n",
       "      <td>-0.648564</td>\n",
       "      <td>-1.024382</td>\n",
       "      <td>0.119843</td>\n",
       "      <td>-0.734305</td>\n",
       "      <td>-0.729815</td>\n",
       "      <td>-0.684536</td>\n",
       "      <td>-0.644833</td>\n",
       "      <td>-0.399279</td>\n",
       "      <td>-1.240809</td>\n",
       "      <td>0.015152</td>\n",
       "      <td>-0.00258</td>\n",
       "    </tr>\n",
       "    <tr>\n",
       "      <th>19643</th>\n",
       "      <td>-0.715133</td>\n",
       "      <td>0.000083</td>\n",
       "      <td>-0.285447</td>\n",
       "      <td>-0.104170</td>\n",
       "      <td>-0.070424</td>\n",
       "      <td>-0.710465</td>\n",
       "      <td>0.203473</td>\n",
       "      <td>-0.723350</td>\n",
       "      <td>-0.878804</td>\n",
       "      <td>0.417675</td>\n",
       "      <td>0.839622</td>\n",
       "      <td>0.085996</td>\n",
       "      <td>0.638079</td>\n",
       "      <td>0.870296</td>\n",
       "      <td>-0.035926</td>\n",
       "      <td>-0.00258</td>\n",
       "    </tr>\n",
       "  </tbody>\n",
       "</table>\n",
       "<p>19644 rows × 16 columns</p>\n",
       "</div>"
      ],
      "text/plain": [
       "       market_id  store_id  store_primary_category  order_protocol  \\\n",
       "0      -0.326467 -0.116663               -0.190953       -0.539753   \n",
       "1      -0.573734 -0.045683               -0.158544       -0.104170   \n",
       "2       2.011379  0.183929                0.355420       -0.539753   \n",
       "3       2.011379 -0.073674               -0.200437       -0.539753   \n",
       "4      -0.275646  0.097824                0.535163        1.494090   \n",
       "...          ...       ...                     ...             ...   \n",
       "19639  -0.573734 -0.309548                0.074460       -0.976103   \n",
       "19640  -0.573734 -0.127351               -0.158544        1.494090   \n",
       "19641  -0.715133 -0.111815                0.355420       -0.976103   \n",
       "19642  -0.275646 -0.152737               -0.202594        1.494090   \n",
       "19643  -0.715133  0.000083               -0.285447       -0.104170   \n",
       "\n",
       "       total_items  subtotal  num_distinct_items  min_item_price  \\\n",
       "0        -0.807121 -0.429445           -1.024382        2.318645   \n",
       "1        -0.070424 -0.734568           -0.410455       -0.719526   \n",
       "2         2.876364  3.070424            1.431327       -0.742470   \n",
       "3        -0.807121  0.334730           -1.024382        4.985889   \n",
       "4        -0.807121 -0.867682           -1.024382        0.789044   \n",
       "...            ...       ...                 ...             ...   \n",
       "19639    -0.807121 -1.004631           -1.024382        0.311043   \n",
       "19640    -0.807121 -0.870421           -1.024382        0.779484   \n",
       "19641    -0.438772 -0.441497           -0.410455       -0.360070   \n",
       "19642    -0.438772 -0.648564           -1.024382        0.119843   \n",
       "19643    -0.070424 -0.710465            0.203473       -0.723350   \n",
       "\n",
       "       max_item_price  total_onshift_partners  total_busy_partners  \\\n",
       "0            1.317229                1.021617             1.131482   \n",
       "1           -1.151747               -1.031786            -1.041254   \n",
       "2            0.423474               -0.035282             0.353189   \n",
       "3            3.805828               -0.186267            -0.133245   \n",
       "4           -0.109925                0.206295             0.255902   \n",
       "...               ...                     ...                  ...   \n",
       "19639       -0.555910               -1.273363            -1.235827   \n",
       "19640       -0.118845               -0.427844            -0.392676   \n",
       "19641        0.387795                1.202800             1.358484   \n",
       "19642       -0.734305               -0.729815            -0.684536   \n",
       "19643       -0.878804                0.417675             0.839622   \n",
       "\n",
       "       total_outstanding_orders  hour_of_day_created  day_of_week_created  \\\n",
       "0                      0.915587             1.039888            -1.240809   \n",
       "1                     -0.941116            -0.733774             0.415721   \n",
       "2                     -0.032517             0.638079            -1.135928   \n",
       "3                      0.046492             0.638079            -0.693397   \n",
       "4                     -0.210286             0.638079             0.415721   \n",
       "...                         ...                  ...                  ...   \n",
       "19639                 -1.059628            -0.688115            -1.240809   \n",
       "19640                 -0.388055             0.044118            -1.240809   \n",
       "19641                  1.034100             0.638079            -1.240809   \n",
       "19642                 -0.644833            -0.399279            -1.240809   \n",
       "19643                  0.085996             0.638079             0.870296   \n",
       "\n",
       "       month_created_at  year_created_at  \n",
       "0              0.015152         -0.00258  \n",
       "1             -0.035926         -0.00258  \n",
       "2             -0.035926         -0.00258  \n",
       "3              0.015152         -0.00258  \n",
       "4             -0.035926         -0.00258  \n",
       "...                 ...              ...  \n",
       "19639          0.015152         -0.00258  \n",
       "19640          0.015152         -0.00258  \n",
       "19641          0.015152         -0.00258  \n",
       "19642          0.015152         -0.00258  \n",
       "19643         -0.035926         -0.00258  \n",
       "\n",
       "[19644 rows x 16 columns]"
      ]
     },
     "execution_count": 61,
     "metadata": {},
     "output_type": "execute_result"
    }
   ],
   "source": [
    "x_test_std"
   ]
  },
  {
   "cell_type": "code",
   "execution_count": 62,
   "id": "e08d1ebb",
   "metadata": {},
   "outputs": [
    {
     "data": {
      "text/plain": [
       "19644"
      ]
     },
     "execution_count": 62,
     "metadata": {},
     "output_type": "execute_result"
    }
   ],
   "source": [
    "len(y_test)"
   ]
  },
  {
   "cell_type": "code",
   "execution_count": 63,
   "id": "b1e30633",
   "metadata": {},
   "outputs": [],
   "source": [
    "from sklearn.model_selection import GridSearchCV\n",
    "from sklearn.ensemble import RandomForestRegressor\n",
    "from sklearn.metrics import mean_squared_error, mean_absolute_error\n",
    "from math import sqrt\n",
    "from sklearn.metrics import r2_score\n",
    "\n"
   ]
  },
  {
   "cell_type": "code",
   "execution_count": 64,
   "id": "cd0331e8",
   "metadata": {},
   "outputs": [],
   "source": [
    "n_estimators_list = [10, 50, 100]\n",
    "max_depth_list = [None, 10, 20] \n",
    "min_samples_split_list = [2, 5, 10]\n",
    "min_samples_leaf_list = [1, 2, 4]"
   ]
  },
  {
   "cell_type": "code",
   "execution_count": 65,
   "id": "1c9bb12a",
   "metadata": {},
   "outputs": [],
   "source": [
    "# best_mse = float('inf')\n",
    "# best_rf_model = None\n",
    "# best_hyperparameters = None\n",
    "# c=1\n",
    "# for n_estimators in n_estimators_list:\n",
    "#     for max_depth in max_depth_list:\n",
    "#         for min_samples_split in min_samples_split_list:\n",
    "#             for min_samples_leaf in min_samples_leaf_list:\n",
    "#                 rf_model = RandomForestRegressor(n_estimators=n_estimators,\n",
    "#                                                  max_depth=max_depth,\n",
    "#                                                  min_samples_split=min_samples_split,\n",
    "#                                                  min_samples_leaf=min_samples_leaf,\n",
    "#                                                  random_state=42)\n",
    "\n",
    "#                 rf_model.fit(Xtrain_std, y_Train)\n",
    "     \n",
    "#                 y_pred = rf_model.predict(x_val_std)\n",
    "#                 y_pred1 = rf_model.predict(Xtrain_std)\n",
    "\n",
    "#                 mse = mean_squared_error(y_vald, y_pred)\n",
    "#                 rmse = mean_squared_error(y_vald, y_pred, squared=False)\n",
    "#                 mae = mean_absolute_error(y_vald, y_pred)\n",
    "#                 mse1 = mean_squared_error(y_Train, y_pred1)\n",
    "#                 r2_valid=r2_score(y_vald, y_pred)\n",
    "#                 r2_train=r2_score(y_Train, y_pred1)\n",
    "                \n",
    "#                 print(\"model\",c,\"training_mse=\",mse1,\"---\",\"validation_mse=\",mse)\n",
    "#                 print(\"model\",c,\"training_r2=\",r2_train,\"---\",\"validation_r2=\",r2_valid)\n",
    "#                 print(\"n_estimators\",n_estimators,\"max_depth\",max_depth,\"min_samples_split\",min_samples_split,\"min_samples_leaf\",min_samples_leaf)\n",
    "\n",
    "#                 if mse < best_mse:\n",
    "#                     print(\"BEST_TILL\",\"n_estimators\",n_estimators,\"max_depth\",max_depth,\"min_samples_split\",min_samples_split,\"min_samples_leaf\",min_samples_leaf)\n",
    "#                     best_mse = mse\n",
    "#                     best_rf_model = rf_model\n",
    "#                     best_hyperparameters = {\n",
    "#                         'n_estimators': n_estimators,\n",
    "#                         'max_depth': max_depth,\n",
    "#                         'min_samples_split': min_samples_split,\n",
    "#                         'min_samples_leaf': min_samples_leaf\n",
    "#                     }"
   ]
  },
  {
   "cell_type": "markdown",
   "id": "57a01980",
   "metadata": {},
   "source": [
    "#### From hyperparameter search we got best model"
   ]
  },
  {
   "cell_type": "code",
   "execution_count": 66,
   "id": "f87e298e",
   "metadata": {},
   "outputs": [],
   "source": [
    "# n_estimators 100 max_depth None min_samples_split 10 min_samples_leaf 4\n",
    "# BEST_TILL n_estimators 100 max_depth None min_samples_split 10 min_samples_leaf 4"
   ]
  },
  {
   "cell_type": "code",
   "execution_count": 67,
   "id": "d090ef9f",
   "metadata": {},
   "outputs": [
    {
     "data": {
      "text/plain": [
       "RandomForestRegressor(min_samples_leaf=4, min_samples_split=10, random_state=42)"
      ]
     },
     "execution_count": 67,
     "metadata": {},
     "output_type": "execute_result"
    }
   ],
   "source": [
    "rf_model = RandomForestRegressor(n_estimators=100,max_depth=None,min_samples_split=10,min_samples_leaf=4,random_state=42)\n",
    "\n",
    "rf_model.fit(Xtrain_std, y_Train)\n",
    "     \n"
   ]
  },
  {
   "cell_type": "code",
   "execution_count": 68,
   "id": "1bf855ac",
   "metadata": {},
   "outputs": [],
   "source": [
    "y_pred = rf_model.predict(x_val_std)\n",
    "y_pred_train = rf_model.predict(Xtrain_std)"
   ]
  },
  {
   "cell_type": "code",
   "execution_count": 69,
   "id": "95c22292",
   "metadata": {},
   "outputs": [],
   "source": [
    "mse_valid = mean_squared_error(y_vald, y_pred)\n",
    "rmse_valid = mean_squared_error(y_vald, y_pred, squared=False)\n",
    "mae_valid = mean_absolute_error(y_vald, y_pred)\n",
    "mse_train = mean_squared_error(y_Train, y_pred_train)\n",
    "rmse_train = mean_squared_error(y_Train, y_pred_train, squared=False)\n",
    "mae_train = mean_absolute_error(y_Train, y_pred_train)\n"
   ]
  },
  {
   "cell_type": "code",
   "execution_count": 70,
   "id": "584950fc",
   "metadata": {},
   "outputs": [],
   "source": [
    "r2_valid=r2_score(y_vald, y_pred)\n",
    "r2_train=r2_score(y_Train, y_pred_train)"
   ]
  },
  {
   "cell_type": "code",
   "execution_count": 71,
   "id": "a29af25f",
   "metadata": {},
   "outputs": [
    {
     "name": "stdout",
     "output_type": "stream",
     "text": [
      "Mean Squared Error of Random Forest Model on Train Data = 117.12480926335436\n",
      "Root Mean Squared Error of Random Forest Model on Train Data = 10.822421598854591\n",
      "Mean Absolute Error of Random Forest Model on Train Data = 6.819230726342129\n",
      "r2_score for Train data=0.6696767166559066\n"
     ]
    }
   ],
   "source": [
    "print(f\"Mean Squared Error of Random Forest Model on Train Data = {mse_train}\")\n",
    "print(f\"Root Mean Squared Error of Random Forest Model on Train Data = {rmse_train}\")\n",
    "print(f\"Mean Absolute Error of Random Forest Model on Train Data = {mae_train}\")\n",
    "print(f\"r2_score for Train data={r2_train}\")"
   ]
  },
  {
   "cell_type": "code",
   "execution_count": 72,
   "id": "933fa1ed",
   "metadata": {},
   "outputs": [
    {
     "name": "stdout",
     "output_type": "stream",
     "text": [
      "Mean Squared Error of Random Forest Model on validation Data = 262.1445601553247\n",
      "Root Mean Squared Error of Random Forest Model on validation Data = 16.190878918555494\n",
      "Mean Absolute Error of Random Forest Model on validation Data = 11.180418482916242\n",
      "r2_score for validation data=0.2737286992557697\n"
     ]
    }
   ],
   "source": [
    "print(f\"Mean Squared Error of Random Forest Model on validation Data = {mse_valid}\")\n",
    "print(f\"Root Mean Squared Error of Random Forest Model on validation Data = {rmse_valid}\")\n",
    "print(f\"Mean Absolute Error of Random Forest Model on validation Data = {mae_valid}\")\n",
    "print(f\"r2_score for validation data={r2_valid}\")"
   ]
  },
  {
   "cell_type": "markdown",
   "id": "82793cf2",
   "metadata": {},
   "source": [
    "### Re-Training whole data set with valid+train"
   ]
  },
  {
   "cell_type": "code",
   "execution_count": 73,
   "id": "087751f6",
   "metadata": {},
   "outputs": [
    {
     "name": "stderr",
     "output_type": "stream",
     "text": [
      "<ipython-input-73-c6830db76f97>:42: DeprecationWarning: In a future version, `df.iloc[:, i] = newvals` will attempt to set the values inplace instead of always setting a new array. To retain the old behavior, use either `df[df.columns[i]] = newvals` or, if columns are non-unique, `df.isetitem(i, newvals)`\n",
      "  test_data1.loc[:, categorical_columns1] = encoder1.transform(test_data1[categorical_columns1])\n"
     ]
    }
   ],
   "source": [
    "df1=pd.read_csv(\"dataset.csv\")\n",
    "df1['created_at'] = pd.to_datetime(df1['created_at'])\n",
    "df1['actual_delivery_time'] = pd.to_datetime(df1['actual_delivery_time'])\n",
    "df1['delivery_time'] = (df1['actual_delivery_time'] - df1['created_at']).dt.total_seconds() / 60.0\n",
    "df1['hour_of_day_created'] = df1['created_at'].dt.hour\n",
    "df1['day_of_week_created'] = df1['created_at'].dt.dayofweek\n",
    "df1['month_created_at'] = df1['created_at'].dt.month\n",
    "df1['year_created_at'] = df1['created_at'].dt.year\n",
    "df1.drop(columns=['created_at','actual_delivery_time'],inplace=True)\n",
    "df1.dropna(subset=['delivery_time'],inplace=True)\n",
    "df1.dropna(subset=['market_id'],inplace=True)\n",
    "X_train1, test_data1 = train_test_split(df1, test_size=0.15,stratify=df1[['market_id']])\n",
    "total_onshift_partners_median1 = np.nanmedian(X_train1['total_onshift_partners'])\n",
    "total_busy_partners_median1 = np.nanmedian(X_train1['total_busy_partners'])\n",
    "total_outstanding_orders_median1 = np.nanmedian(X_train1['total_outstanding_orders'])\n",
    "X_train1['total_onshift_partners']= np.where(X_train1['total_onshift_partners'].isna(), total_onshift_partners_median1, X_train1['total_onshift_partners'])\n",
    "X_train1['total_busy_partners']= np.where(X_train1['total_busy_partners'].isna(), total_busy_partners_median1, X_train1['total_busy_partners'])\n",
    "X_train1['total_outstanding_orders']= np.where(X_train1['total_outstanding_orders'].isna(), total_outstanding_orders_median1, X_train1['total_outstanding_orders'])\n",
    "categorical_columns1=['market_id', 'store_id', 'store_primary_category','order_protocol', 'day_of_week_created', 'month_created_at', 'year_created_at', 'hour_of_day_created']\n",
    "encoder1 = ce.TargetEncoder(cols = categorical_columns1, handle_missing = 'median') \n",
    "encoder1.fit( X = X_train1[categorical_columns1], y = X_train1['delivery_time'])\n",
    "X_train1[categorical_columns1] = encoder1.transform(X_train1[categorical_columns1])\n",
    "y_Train1=X_train1['delivery_time']\n",
    "X_train1.drop(columns=['delivery_time'],inplace=True)\n",
    "scaler1 = StandardScaler()\n",
    "standardized_data1 = scaler1.fit_transform(X_train1)\n",
    "Xtrain_standardized_df1 = pd.DataFrame(standardized_data1, columns=X_train1.columns)\n",
    "\n",
    "outliers_mask1=(np.abs(Xtrain_standardized_df1) > 3).any(axis=1)\n",
    "Xtrain_standardized_df1['delivery_time']=y_Train1.tolist()\n",
    "Xtrain_standardized_df_no_out1 = Xtrain_standardized_df1[~outliers_mask1]\n",
    "y_Train1=Xtrain_standardized_df_no_out1['delivery_time'].tolist()\n",
    "Xtrain_std1=Xtrain_standardized_df_no_out1.drop(columns=['delivery_time'])\n",
    "\n",
    "\n",
    "\n",
    "\n",
    "test_data1.dropna(subset=[\"market_id\"],inplace=True)\n",
    "test_data1['total_onshift_partners']= np.where(test_data1['total_onshift_partners'].isna(), total_onshift_partners_median1, test_data1['total_onshift_partners'])\n",
    "test_data1['total_busy_partners']= np.where(test_data1['total_busy_partners'].isna(), total_busy_partners_median1, test_data1['total_busy_partners'])\n",
    "test_data1['total_outstanding_orders']= np.where(test_data1['total_outstanding_orders'].isna(), total_outstanding_orders_median1, test_data1['total_outstanding_orders'])\n",
    "test_data1.loc[:, categorical_columns1] = encoder1.transform(test_data1[categorical_columns1])\n",
    "y_test1=test_data1['delivery_time'].tolist()\n",
    "test_data1.drop(columns=['delivery_time'],inplace=True)\n",
    "xtest_std1=scaler1.transform(test_data1)\n",
    "x_test_std1 = pd.DataFrame(xtest_std1, columns=test_data1.columns)\n",
    "\n",
    "\n",
    "\n"
   ]
  },
  {
   "cell_type": "code",
   "execution_count": 74,
   "id": "3d9e074e",
   "metadata": {},
   "outputs": [
    {
     "data": {
      "text/html": [
       "<div>\n",
       "<style scoped>\n",
       "    .dataframe tbody tr th:only-of-type {\n",
       "        vertical-align: middle;\n",
       "    }\n",
       "\n",
       "    .dataframe tbody tr th {\n",
       "        vertical-align: top;\n",
       "    }\n",
       "\n",
       "    .dataframe thead th {\n",
       "        text-align: right;\n",
       "    }\n",
       "</style>\n",
       "<table border=\"1\" class=\"dataframe\">\n",
       "  <thead>\n",
       "    <tr style=\"text-align: right;\">\n",
       "      <th></th>\n",
       "      <th>market_id</th>\n",
       "      <th>store_id</th>\n",
       "      <th>store_primary_category</th>\n",
       "      <th>order_protocol</th>\n",
       "      <th>total_items</th>\n",
       "      <th>subtotal</th>\n",
       "      <th>num_distinct_items</th>\n",
       "      <th>min_item_price</th>\n",
       "      <th>max_item_price</th>\n",
       "      <th>total_onshift_partners</th>\n",
       "      <th>total_busy_partners</th>\n",
       "      <th>total_outstanding_orders</th>\n",
       "      <th>hour_of_day_created</th>\n",
       "      <th>day_of_week_created</th>\n",
       "      <th>month_created_at</th>\n",
       "      <th>year_created_at</th>\n",
       "    </tr>\n",
       "  </thead>\n",
       "  <tbody>\n",
       "    <tr>\n",
       "      <th>0</th>\n",
       "      <td>-0.562017</td>\n",
       "      <td>-0.137228</td>\n",
       "      <td>-0.105104</td>\n",
       "      <td>-0.416276</td>\n",
       "      <td>1.046144</td>\n",
       "      <td>0.822573</td>\n",
       "      <td>1.430488</td>\n",
       "      <td>-1.123713</td>\n",
       "      <td>0.782961</td>\n",
       "      <td>-0.699387</td>\n",
       "      <td>-0.749089</td>\n",
       "      <td>-0.605236</td>\n",
       "      <td>1.093807</td>\n",
       "      <td>0.927886</td>\n",
       "      <td>0.016466</td>\n",
       "      <td>-0.002447</td>\n",
       "    </tr>\n",
       "    <tr>\n",
       "      <th>1</th>\n",
       "      <td>-0.237171</td>\n",
       "      <td>-0.112381</td>\n",
       "      <td>-0.742175</td>\n",
       "      <td>-0.553459</td>\n",
       "      <td>-0.817710</td>\n",
       "      <td>-0.839837</td>\n",
       "      <td>-1.023951</td>\n",
       "      <td>0.587584</td>\n",
       "      <td>-0.297966</td>\n",
       "      <td>-0.065307</td>\n",
       "      <td>-0.003483</td>\n",
       "      <td>0.204733</td>\n",
       "      <td>1.093807</td>\n",
       "      <td>-0.696772</td>\n",
       "      <td>0.016466</td>\n",
       "      <td>-0.002447</td>\n",
       "    </tr>\n",
       "    <tr>\n",
       "      <th>2</th>\n",
       "      <td>-0.357420</td>\n",
       "      <td>0.058466</td>\n",
       "      <td>-0.722050</td>\n",
       "      <td>-0.553459</td>\n",
       "      <td>-0.072168</td>\n",
       "      <td>-0.264493</td>\n",
       "      <td>-0.410341</td>\n",
       "      <td>0.790717</td>\n",
       "      <td>-0.107636</td>\n",
       "      <td>-0.216278</td>\n",
       "      <td>-0.230407</td>\n",
       "      <td>-0.308906</td>\n",
       "      <td>1.093807</td>\n",
       "      <td>-1.244535</td>\n",
       "      <td>0.016466</td>\n",
       "      <td>-0.002447</td>\n",
       "    </tr>\n",
       "    <tr>\n",
       "      <th>4</th>\n",
       "      <td>2.011843</td>\n",
       "      <td>0.230735</td>\n",
       "      <td>-0.722050</td>\n",
       "      <td>-0.553459</td>\n",
       "      <td>0.673373</td>\n",
       "      <td>-0.304531</td>\n",
       "      <td>0.816878</td>\n",
       "      <td>-1.027896</td>\n",
       "      <td>0.208382</td>\n",
       "      <td>-1.333468</td>\n",
       "      <td>-1.332607</td>\n",
       "      <td>-1.118875</td>\n",
       "      <td>-0.418056</td>\n",
       "      <td>1.486175</td>\n",
       "      <td>0.016466</td>\n",
       "      <td>-0.002447</td>\n",
       "    </tr>\n",
       "    <tr>\n",
       "      <th>5</th>\n",
       "      <td>-0.347188</td>\n",
       "      <td>0.012401</td>\n",
       "      <td>-0.742175</td>\n",
       "      <td>-0.973225</td>\n",
       "      <td>-0.817710</td>\n",
       "      <td>-0.836547</td>\n",
       "      <td>-1.023951</td>\n",
       "      <td>0.480269</td>\n",
       "      <td>-0.375175</td>\n",
       "      <td>1.836936</td>\n",
       "      <td>1.617400</td>\n",
       "      <td>1.706140</td>\n",
       "      <td>1.093807</td>\n",
       "      <td>-1.244535</td>\n",
       "      <td>0.016466</td>\n",
       "      <td>-0.002447</td>\n",
       "    </tr>\n",
       "    <tr>\n",
       "      <th>...</th>\n",
       "      <td>...</td>\n",
       "      <td>...</td>\n",
       "      <td>...</td>\n",
       "      <td>...</td>\n",
       "      <td>...</td>\n",
       "      <td>...</td>\n",
       "      <td>...</td>\n",
       "      <td>...</td>\n",
       "      <td>...</td>\n",
       "      <td>...</td>\n",
       "      <td>...</td>\n",
       "      <td>...</td>\n",
       "      <td>...</td>\n",
       "      <td>...</td>\n",
       "      <td>...</td>\n",
       "      <td>...</td>\n",
       "    </tr>\n",
       "    <tr>\n",
       "      <th>166963</th>\n",
       "      <td>-0.347188</td>\n",
       "      <td>-0.255671</td>\n",
       "      <td>-0.470197</td>\n",
       "      <td>-0.553459</td>\n",
       "      <td>0.300602</td>\n",
       "      <td>0.567535</td>\n",
       "      <td>0.816878</td>\n",
       "      <td>0.208148</td>\n",
       "      <td>-0.554731</td>\n",
       "      <td>0.085665</td>\n",
       "      <td>0.093770</td>\n",
       "      <td>0.046690</td>\n",
       "      <td>-0.724427</td>\n",
       "      <td>-1.166421</td>\n",
       "      <td>-0.038134</td>\n",
       "      <td>-0.002447</td>\n",
       "    </tr>\n",
       "    <tr>\n",
       "      <th>166964</th>\n",
       "      <td>-0.711887</td>\n",
       "      <td>0.319202</td>\n",
       "      <td>-0.162277</td>\n",
       "      <td>-0.553459</td>\n",
       "      <td>-0.817710</td>\n",
       "      <td>-1.113524</td>\n",
       "      <td>-1.023951</td>\n",
       "      <td>-0.069722</td>\n",
       "      <td>-0.913843</td>\n",
       "      <td>-0.518221</td>\n",
       "      <td>0.450364</td>\n",
       "      <td>-0.545970</td>\n",
       "      <td>-0.418056</td>\n",
       "      <td>0.927886</td>\n",
       "      <td>-0.038134</td>\n",
       "      <td>-0.002447</td>\n",
       "    </tr>\n",
       "    <tr>\n",
       "      <th>166965</th>\n",
       "      <td>-0.357420</td>\n",
       "      <td>0.024427</td>\n",
       "      <td>-0.053865</td>\n",
       "      <td>1.469213</td>\n",
       "      <td>0.673373</td>\n",
       "      <td>1.269576</td>\n",
       "      <td>-1.023951</td>\n",
       "      <td>0.599083</td>\n",
       "      <td>-0.287192</td>\n",
       "      <td>-0.216278</td>\n",
       "      <td>-0.230407</td>\n",
       "      <td>-0.308906</td>\n",
       "      <td>-0.884317</td>\n",
       "      <td>1.486175</td>\n",
       "      <td>-0.038134</td>\n",
       "      <td>-0.002447</td>\n",
       "    </tr>\n",
       "    <tr>\n",
       "      <th>166966</th>\n",
       "      <td>2.011843</td>\n",
       "      <td>0.074742</td>\n",
       "      <td>-0.288812</td>\n",
       "      <td>-0.973225</td>\n",
       "      <td>-0.444939</td>\n",
       "      <td>-0.049493</td>\n",
       "      <td>-0.410341</td>\n",
       "      <td>0.974687</td>\n",
       "      <td>0.244293</td>\n",
       "      <td>0.206442</td>\n",
       "      <td>0.320693</td>\n",
       "      <td>0.066446</td>\n",
       "      <td>0.064853</td>\n",
       "      <td>0.456299</td>\n",
       "      <td>0.016466</td>\n",
       "      <td>-0.002447</td>\n",
       "    </tr>\n",
       "    <tr>\n",
       "      <th>166967</th>\n",
       "      <td>-0.711887</td>\n",
       "      <td>-0.168028</td>\n",
       "      <td>-0.162277</td>\n",
       "      <td>-0.416276</td>\n",
       "      <td>-0.817710</td>\n",
       "      <td>-0.778957</td>\n",
       "      <td>-1.023951</td>\n",
       "      <td>1.099249</td>\n",
       "      <td>0.181449</td>\n",
       "      <td>-0.699387</td>\n",
       "      <td>-0.619419</td>\n",
       "      <td>-0.624991</td>\n",
       "      <td>-0.758767</td>\n",
       "      <td>1.486175</td>\n",
       "      <td>0.016466</td>\n",
       "      <td>-0.002447</td>\n",
       "    </tr>\n",
       "  </tbody>\n",
       "</table>\n",
       "<p>149724 rows × 16 columns</p>\n",
       "</div>"
      ],
      "text/plain": [
       "        market_id  store_id  store_primary_category  order_protocol  \\\n",
       "0       -0.562017 -0.137228               -0.105104       -0.416276   \n",
       "1       -0.237171 -0.112381               -0.742175       -0.553459   \n",
       "2       -0.357420  0.058466               -0.722050       -0.553459   \n",
       "4        2.011843  0.230735               -0.722050       -0.553459   \n",
       "5       -0.347188  0.012401               -0.742175       -0.973225   \n",
       "...           ...       ...                     ...             ...   \n",
       "166963  -0.347188 -0.255671               -0.470197       -0.553459   \n",
       "166964  -0.711887  0.319202               -0.162277       -0.553459   \n",
       "166965  -0.357420  0.024427               -0.053865        1.469213   \n",
       "166966   2.011843  0.074742               -0.288812       -0.973225   \n",
       "166967  -0.711887 -0.168028               -0.162277       -0.416276   \n",
       "\n",
       "        total_items  subtotal  num_distinct_items  min_item_price  \\\n",
       "0          1.046144  0.822573            1.430488       -1.123713   \n",
       "1         -0.817710 -0.839837           -1.023951        0.587584   \n",
       "2         -0.072168 -0.264493           -0.410341        0.790717   \n",
       "4          0.673373 -0.304531            0.816878       -1.027896   \n",
       "5         -0.817710 -0.836547           -1.023951        0.480269   \n",
       "...             ...       ...                 ...             ...   \n",
       "166963     0.300602  0.567535            0.816878        0.208148   \n",
       "166964    -0.817710 -1.113524           -1.023951       -0.069722   \n",
       "166965     0.673373  1.269576           -1.023951        0.599083   \n",
       "166966    -0.444939 -0.049493           -0.410341        0.974687   \n",
       "166967    -0.817710 -0.778957           -1.023951        1.099249   \n",
       "\n",
       "        max_item_price  total_onshift_partners  total_busy_partners  \\\n",
       "0             0.782961               -0.699387            -0.749089   \n",
       "1            -0.297966               -0.065307            -0.003483   \n",
       "2            -0.107636               -0.216278            -0.230407   \n",
       "4             0.208382               -1.333468            -1.332607   \n",
       "5            -0.375175                1.836936             1.617400   \n",
       "...                ...                     ...                  ...   \n",
       "166963       -0.554731                0.085665             0.093770   \n",
       "166964       -0.913843               -0.518221             0.450364   \n",
       "166965       -0.287192               -0.216278            -0.230407   \n",
       "166966        0.244293                0.206442             0.320693   \n",
       "166967        0.181449               -0.699387            -0.619419   \n",
       "\n",
       "        total_outstanding_orders  hour_of_day_created  day_of_week_created  \\\n",
       "0                      -0.605236             1.093807             0.927886   \n",
       "1                       0.204733             1.093807            -0.696772   \n",
       "2                      -0.308906             1.093807            -1.244535   \n",
       "4                      -1.118875            -0.418056             1.486175   \n",
       "5                       1.706140             1.093807            -1.244535   \n",
       "...                          ...                  ...                  ...   \n",
       "166963                  0.046690            -0.724427            -1.166421   \n",
       "166964                 -0.545970            -0.418056             0.927886   \n",
       "166965                 -0.308906            -0.884317             1.486175   \n",
       "166966                  0.066446             0.064853             0.456299   \n",
       "166967                 -0.624991            -0.758767             1.486175   \n",
       "\n",
       "        month_created_at  year_created_at  \n",
       "0               0.016466        -0.002447  \n",
       "1               0.016466        -0.002447  \n",
       "2               0.016466        -0.002447  \n",
       "4               0.016466        -0.002447  \n",
       "5               0.016466        -0.002447  \n",
       "...                  ...              ...  \n",
       "166963         -0.038134        -0.002447  \n",
       "166964         -0.038134        -0.002447  \n",
       "166965         -0.038134        -0.002447  \n",
       "166966          0.016466        -0.002447  \n",
       "166967          0.016466        -0.002447  \n",
       "\n",
       "[149724 rows x 16 columns]"
      ]
     },
     "execution_count": 74,
     "metadata": {},
     "output_type": "execute_result"
    }
   ],
   "source": [
    "Xtrain_std1"
   ]
  },
  {
   "cell_type": "code",
   "execution_count": 75,
   "id": "9533ef90",
   "metadata": {},
   "outputs": [
    {
     "data": {
      "text/plain": [
       "149724"
      ]
     },
     "execution_count": 75,
     "metadata": {},
     "output_type": "execute_result"
    }
   ],
   "source": [
    "len(y_Train1)"
   ]
  },
  {
   "cell_type": "code",
   "execution_count": 76,
   "id": "d4620914",
   "metadata": {},
   "outputs": [
    {
     "data": {
      "text/html": [
       "<div>\n",
       "<style scoped>\n",
       "    .dataframe tbody tr th:only-of-type {\n",
       "        vertical-align: middle;\n",
       "    }\n",
       "\n",
       "    .dataframe tbody tr th {\n",
       "        vertical-align: top;\n",
       "    }\n",
       "\n",
       "    .dataframe thead th {\n",
       "        text-align: right;\n",
       "    }\n",
       "</style>\n",
       "<table border=\"1\" class=\"dataframe\">\n",
       "  <thead>\n",
       "    <tr style=\"text-align: right;\">\n",
       "      <th></th>\n",
       "      <th>market_id</th>\n",
       "      <th>store_id</th>\n",
       "      <th>store_primary_category</th>\n",
       "      <th>order_protocol</th>\n",
       "      <th>total_items</th>\n",
       "      <th>subtotal</th>\n",
       "      <th>num_distinct_items</th>\n",
       "      <th>min_item_price</th>\n",
       "      <th>max_item_price</th>\n",
       "      <th>total_onshift_partners</th>\n",
       "      <th>total_busy_partners</th>\n",
       "      <th>total_outstanding_orders</th>\n",
       "      <th>hour_of_day_created</th>\n",
       "      <th>day_of_week_created</th>\n",
       "      <th>month_created_at</th>\n",
       "      <th>year_created_at</th>\n",
       "    </tr>\n",
       "  </thead>\n",
       "  <tbody>\n",
       "    <tr>\n",
       "      <th>0</th>\n",
       "      <td>-0.562017</td>\n",
       "      <td>-0.279527</td>\n",
       "      <td>-0.841385</td>\n",
       "      <td>1.469213</td>\n",
       "      <td>0.300602</td>\n",
       "      <td>-0.540373</td>\n",
       "      <td>0.203269</td>\n",
       "      <td>-1.171622</td>\n",
       "      <td>-1.272954</td>\n",
       "      <td>0.357414</td>\n",
       "      <td>0.417946</td>\n",
       "      <td>0.580085</td>\n",
       "      <td>0.699210</td>\n",
       "      <td>0.927886</td>\n",
       "      <td>0.016466</td>\n",
       "      <td>-0.002447</td>\n",
       "    </tr>\n",
       "    <tr>\n",
       "      <th>1</th>\n",
       "      <td>-0.347188</td>\n",
       "      <td>0.040864</td>\n",
       "      <td>-0.189942</td>\n",
       "      <td>-0.553459</td>\n",
       "      <td>-0.444939</td>\n",
       "      <td>-0.488269</td>\n",
       "      <td>-0.410341</td>\n",
       "      <td>0.016513</td>\n",
       "      <td>-0.114819</td>\n",
       "      <td>-0.488027</td>\n",
       "      <td>-0.327660</td>\n",
       "      <td>-0.545970</td>\n",
       "      <td>2.599374</td>\n",
       "      <td>0.927886</td>\n",
       "      <td>0.016466</td>\n",
       "      <td>-0.002447</td>\n",
       "    </tr>\n",
       "    <tr>\n",
       "      <th>2</th>\n",
       "      <td>-0.237171</td>\n",
       "      <td>0.305210</td>\n",
       "      <td>-0.053865</td>\n",
       "      <td>-0.040079</td>\n",
       "      <td>-0.444939</td>\n",
       "      <td>-0.351151</td>\n",
       "      <td>-0.410341</td>\n",
       "      <td>0.591417</td>\n",
       "      <td>-0.204597</td>\n",
       "      <td>-0.850359</td>\n",
       "      <td>-0.943595</td>\n",
       "      <td>-0.881811</td>\n",
       "      <td>-0.418056</td>\n",
       "      <td>1.486175</td>\n",
       "      <td>0.016466</td>\n",
       "      <td>-0.002447</td>\n",
       "    </tr>\n",
       "    <tr>\n",
       "      <th>3</th>\n",
       "      <td>-0.347188</td>\n",
       "      <td>0.146598</td>\n",
       "      <td>-0.002100</td>\n",
       "      <td>-0.553459</td>\n",
       "      <td>0.300602</td>\n",
       "      <td>-0.484429</td>\n",
       "      <td>0.203269</td>\n",
       "      <td>-0.167456</td>\n",
       "      <td>-1.005416</td>\n",
       "      <td>-1.061719</td>\n",
       "      <td>-1.008431</td>\n",
       "      <td>-0.881811</td>\n",
       "      <td>-0.724427</td>\n",
       "      <td>-1.166421</td>\n",
       "      <td>-0.038134</td>\n",
       "      <td>-0.002447</td>\n",
       "    </tr>\n",
       "    <tr>\n",
       "      <th>4</th>\n",
       "      <td>-0.347188</td>\n",
       "      <td>0.215240</td>\n",
       "      <td>0.439176</td>\n",
       "      <td>-0.553459</td>\n",
       "      <td>0.300602</td>\n",
       "      <td>0.348696</td>\n",
       "      <td>0.816878</td>\n",
       "      <td>-0.263274</td>\n",
       "      <td>0.574676</td>\n",
       "      <td>0.266831</td>\n",
       "      <td>0.255858</td>\n",
       "      <td>-0.012576</td>\n",
       "      <td>-1.308557</td>\n",
       "      <td>0.456299</td>\n",
       "      <td>0.016466</td>\n",
       "      <td>-0.002447</td>\n",
       "    </tr>\n",
       "    <tr>\n",
       "      <th>...</th>\n",
       "      <td>...</td>\n",
       "      <td>...</td>\n",
       "      <td>...</td>\n",
       "      <td>...</td>\n",
       "      <td>...</td>\n",
       "      <td>...</td>\n",
       "      <td>...</td>\n",
       "      <td>...</td>\n",
       "      <td>...</td>\n",
       "      <td>...</td>\n",
       "      <td>...</td>\n",
       "      <td>...</td>\n",
       "      <td>...</td>\n",
       "      <td>...</td>\n",
       "      <td>...</td>\n",
       "      <td>...</td>\n",
       "    </tr>\n",
       "    <tr>\n",
       "      <th>29461</th>\n",
       "      <td>-0.237171</td>\n",
       "      <td>-0.046219</td>\n",
       "      <td>-0.742175</td>\n",
       "      <td>1.469213</td>\n",
       "      <td>-0.072168</td>\n",
       "      <td>-0.363766</td>\n",
       "      <td>0.203269</td>\n",
       "      <td>-0.569889</td>\n",
       "      <td>-0.646304</td>\n",
       "      <td>-1.091914</td>\n",
       "      <td>-1.202937</td>\n",
       "      <td>-1.059609</td>\n",
       "      <td>0.064853</td>\n",
       "      <td>-1.244535</td>\n",
       "      <td>-0.038134</td>\n",
       "      <td>-0.002447</td>\n",
       "    </tr>\n",
       "    <tr>\n",
       "      <th>29462</th>\n",
       "      <td>-0.347188</td>\n",
       "      <td>-0.165148</td>\n",
       "      <td>0.198879</td>\n",
       "      <td>-0.973225</td>\n",
       "      <td>-0.072168</td>\n",
       "      <td>0.586731</td>\n",
       "      <td>-1.023951</td>\n",
       "      <td>1.080086</td>\n",
       "      <td>0.163493</td>\n",
       "      <td>1.353827</td>\n",
       "      <td>1.422894</td>\n",
       "      <td>2.121002</td>\n",
       "      <td>-0.724427</td>\n",
       "      <td>-0.696772</td>\n",
       "      <td>0.016466</td>\n",
       "      <td>-0.002447</td>\n",
       "    </tr>\n",
       "    <tr>\n",
       "      <th>29463</th>\n",
       "      <td>-0.562017</td>\n",
       "      <td>-0.032812</td>\n",
       "      <td>0.439176</td>\n",
       "      <td>1.469213</td>\n",
       "      <td>-0.444939</td>\n",
       "      <td>0.338823</td>\n",
       "      <td>-0.410341</td>\n",
       "      <td>0.982352</td>\n",
       "      <td>1.687923</td>\n",
       "      <td>-1.001331</td>\n",
       "      <td>-1.040848</td>\n",
       "      <td>-0.941077</td>\n",
       "      <td>-1.308557</td>\n",
       "      <td>1.486175</td>\n",
       "      <td>0.016466</td>\n",
       "      <td>-0.002447</td>\n",
       "    </tr>\n",
       "    <tr>\n",
       "      <th>29464</th>\n",
       "      <td>-0.237171</td>\n",
       "      <td>0.213545</td>\n",
       "      <td>0.439176</td>\n",
       "      <td>-0.040079</td>\n",
       "      <td>-0.444939</td>\n",
       "      <td>0.574665</td>\n",
       "      <td>-0.410341</td>\n",
       "      <td>1.135660</td>\n",
       "      <td>1.508367</td>\n",
       "      <td>-0.035112</td>\n",
       "      <td>-0.003483</td>\n",
       "      <td>-0.289150</td>\n",
       "      <td>1.093807</td>\n",
       "      <td>0.456299</td>\n",
       "      <td>0.016466</td>\n",
       "      <td>-0.002447</td>\n",
       "    </tr>\n",
       "    <tr>\n",
       "      <th>29465</th>\n",
       "      <td>2.011843</td>\n",
       "      <td>-0.076983</td>\n",
       "      <td>-0.288812</td>\n",
       "      <td>1.469213</td>\n",
       "      <td>0.673373</td>\n",
       "      <td>-0.197580</td>\n",
       "      <td>1.430488</td>\n",
       "      <td>-1.219531</td>\n",
       "      <td>-0.294374</td>\n",
       "      <td>-0.367250</td>\n",
       "      <td>0.061352</td>\n",
       "      <td>0.026935</td>\n",
       "      <td>-0.692415</td>\n",
       "      <td>0.456299</td>\n",
       "      <td>-0.038134</td>\n",
       "      <td>-0.002447</td>\n",
       "    </tr>\n",
       "  </tbody>\n",
       "</table>\n",
       "<p>29466 rows × 16 columns</p>\n",
       "</div>"
      ],
      "text/plain": [
       "       market_id  store_id  store_primary_category  order_protocol  \\\n",
       "0      -0.562017 -0.279527               -0.841385        1.469213   \n",
       "1      -0.347188  0.040864               -0.189942       -0.553459   \n",
       "2      -0.237171  0.305210               -0.053865       -0.040079   \n",
       "3      -0.347188  0.146598               -0.002100       -0.553459   \n",
       "4      -0.347188  0.215240                0.439176       -0.553459   \n",
       "...          ...       ...                     ...             ...   \n",
       "29461  -0.237171 -0.046219               -0.742175        1.469213   \n",
       "29462  -0.347188 -0.165148                0.198879       -0.973225   \n",
       "29463  -0.562017 -0.032812                0.439176        1.469213   \n",
       "29464  -0.237171  0.213545                0.439176       -0.040079   \n",
       "29465   2.011843 -0.076983               -0.288812        1.469213   \n",
       "\n",
       "       total_items  subtotal  num_distinct_items  min_item_price  \\\n",
       "0         0.300602 -0.540373            0.203269       -1.171622   \n",
       "1        -0.444939 -0.488269           -0.410341        0.016513   \n",
       "2        -0.444939 -0.351151           -0.410341        0.591417   \n",
       "3         0.300602 -0.484429            0.203269       -0.167456   \n",
       "4         0.300602  0.348696            0.816878       -0.263274   \n",
       "...            ...       ...                 ...             ...   \n",
       "29461    -0.072168 -0.363766            0.203269       -0.569889   \n",
       "29462    -0.072168  0.586731           -1.023951        1.080086   \n",
       "29463    -0.444939  0.338823           -0.410341        0.982352   \n",
       "29464    -0.444939  0.574665           -0.410341        1.135660   \n",
       "29465     0.673373 -0.197580            1.430488       -1.219531   \n",
       "\n",
       "       max_item_price  total_onshift_partners  total_busy_partners  \\\n",
       "0           -1.272954                0.357414             0.417946   \n",
       "1           -0.114819               -0.488027            -0.327660   \n",
       "2           -0.204597               -0.850359            -0.943595   \n",
       "3           -1.005416               -1.061719            -1.008431   \n",
       "4            0.574676                0.266831             0.255858   \n",
       "...               ...                     ...                  ...   \n",
       "29461       -0.646304               -1.091914            -1.202937   \n",
       "29462        0.163493                1.353827             1.422894   \n",
       "29463        1.687923               -1.001331            -1.040848   \n",
       "29464        1.508367               -0.035112            -0.003483   \n",
       "29465       -0.294374               -0.367250             0.061352   \n",
       "\n",
       "       total_outstanding_orders  hour_of_day_created  day_of_week_created  \\\n",
       "0                      0.580085             0.699210             0.927886   \n",
       "1                     -0.545970             2.599374             0.927886   \n",
       "2                     -0.881811            -0.418056             1.486175   \n",
       "3                     -0.881811            -0.724427            -1.166421   \n",
       "4                     -0.012576            -1.308557             0.456299   \n",
       "...                         ...                  ...                  ...   \n",
       "29461                 -1.059609             0.064853            -1.244535   \n",
       "29462                  2.121002            -0.724427            -0.696772   \n",
       "29463                 -0.941077            -1.308557             1.486175   \n",
       "29464                 -0.289150             1.093807             0.456299   \n",
       "29465                  0.026935            -0.692415             0.456299   \n",
       "\n",
       "       month_created_at  year_created_at  \n",
       "0              0.016466        -0.002447  \n",
       "1              0.016466        -0.002447  \n",
       "2              0.016466        -0.002447  \n",
       "3             -0.038134        -0.002447  \n",
       "4              0.016466        -0.002447  \n",
       "...                 ...              ...  \n",
       "29461         -0.038134        -0.002447  \n",
       "29462          0.016466        -0.002447  \n",
       "29463          0.016466        -0.002447  \n",
       "29464          0.016466        -0.002447  \n",
       "29465         -0.038134        -0.002447  \n",
       "\n",
       "[29466 rows x 16 columns]"
      ]
     },
     "execution_count": 76,
     "metadata": {},
     "output_type": "execute_result"
    }
   ],
   "source": [
    "x_test_std1"
   ]
  },
  {
   "cell_type": "code",
   "execution_count": 77,
   "id": "f70412f4",
   "metadata": {},
   "outputs": [
    {
     "data": {
      "text/plain": [
       "29466"
      ]
     },
     "execution_count": 77,
     "metadata": {},
     "output_type": "execute_result"
    }
   ],
   "source": [
    "len(y_test1)"
   ]
  },
  {
   "cell_type": "code",
   "execution_count": 78,
   "id": "6b7db67f",
   "metadata": {},
   "outputs": [
    {
     "data": {
      "text/plain": [
       "RandomForestRegressor(min_samples_leaf=4, min_samples_split=10, random_state=42)"
      ]
     },
     "execution_count": 78,
     "metadata": {},
     "output_type": "execute_result"
    }
   ],
   "source": [
    "rf_model = RandomForestRegressor(n_estimators=100,max_depth=None,min_samples_split=10,min_samples_leaf=4,random_state=42)\n",
    "\n",
    "rf_model.fit(Xtrain_std1, y_Train1)"
   ]
  },
  {
   "cell_type": "code",
   "execution_count": 79,
   "id": "7b4c9a71",
   "metadata": {},
   "outputs": [],
   "source": [
    "y_pred1 = rf_model.predict(x_test_std1)\n",
    "y_pred_train1 = rf_model.predict(Xtrain_std1)\n",
    "mse_valid1 = mean_squared_error(y_test1, y_pred1)\n",
    "rmse_valid1 = mean_squared_error(y_test1, y_pred1, squared=False)\n",
    "mae_valid1 = mean_absolute_error(y_test1, y_pred1)\n",
    "mse_train1 = mean_squared_error(y_Train1, y_pred_train1)\n",
    "rmse_train1 = mean_squared_error(y_Train1, y_pred_train1, squared=False)\n",
    "mae_train1 = mean_absolute_error(y_Train1, y_pred_train1)\n",
    "r2_valid1=r2_score(y_test1, y_pred1)\n",
    "r2_train1=r2_score(y_Train1, y_pred_train1)"
   ]
  },
  {
   "cell_type": "code",
   "execution_count": 80,
   "id": "5c43ba18",
   "metadata": {},
   "outputs": [
    {
     "name": "stdout",
     "output_type": "stream",
     "text": [
      "Mean Squared Error of Random Forest Model on Train Data = 114.51267780725021\n",
      "Root Mean Squared Error of Random Forest Model on Train Data = 10.701059658148356\n",
      "Mean Absolute Error of Random Forest Model on Train Data = 6.828117377007429\n",
      "r2_score for Train data=0.6741279144299959\n"
     ]
    }
   ],
   "source": [
    "print(f\"Mean Squared Error of Random Forest Model on Train Data = {mse_train1}\")\n",
    "print(f\"Root Mean Squared Error of Random Forest Model on Train Data = {rmse_train1}\")\n",
    "print(f\"Mean Absolute Error of Random Forest Model on Train Data = {mae_train1}\")\n",
    "print(f\"r2_score for Train data={r2_train1}\")"
   ]
  },
  {
   "cell_type": "code",
   "execution_count": 81,
   "id": "a648a791",
   "metadata": {},
   "outputs": [
    {
     "name": "stdout",
     "output_type": "stream",
     "text": [
      "Mean Squared Error of Random Forest Model on TEST Data = 318.14754791535023\n",
      "Root Mean Squared Error of Random Forest Model on TEST Data = 17.836691058471306\n",
      "Mean Absolute Error of Random Forest Model on TEST Data = 11.145229181537305\n",
      "r2_score for TEST data=0.2489742577682743\n"
     ]
    }
   ],
   "source": [
    "print(f\"Mean Squared Error of Random Forest Model on TEST Data = {mse_valid1}\")\n",
    "print(f\"Root Mean Squared Error of Random Forest Model on TEST Data = {rmse_valid1}\")\n",
    "print(f\"Mean Absolute Error of Random Forest Model on TEST Data = {mae_valid1}\")\n",
    "print(f\"r2_score for TEST data={r2_valid1}\")"
   ]
  },
  {
   "cell_type": "code",
   "execution_count": null,
   "id": "d946c223",
   "metadata": {},
   "outputs": [],
   "source": []
  },
  {
   "cell_type": "code",
   "execution_count": 82,
   "id": "1d54dd27",
   "metadata": {},
   "outputs": [],
   "source": [
    "#all imports\n",
    "import tensorflow as tf\n",
    "from tensorflow.keras.models import Model\n",
    "import matplotlib.pyplot as plt\n",
    "import os\n",
    "import datetime \n",
    "from tensorflow import keras\n",
    "from sklearn.metrics import mean_squared_error, mean_absolute_error\n",
    "from tensorflow.keras.layers import Dense, Input, Activation, Dropout, BatchNormalization\n",
    "import tensorflow as tf\n",
    "from tensorflow.keras.layers import Dense\n",
    "from tensorflow.keras.initializers import glorot_uniform,HeNormal,random_normal\n",
    "import numpy as np\n",
    "import tensorflow as tf\n",
    "from tensorflow import keras\n",
    "from tensorflow.keras import layers, optimizers\n",
    "from sklearn.metrics import mean_squared_error, r2_score"
   ]
  },
  {
   "cell_type": "code",
   "execution_count": 83,
   "id": "458327f8",
   "metadata": {},
   "outputs": [],
   "source": [
    "def create_model():\n",
    "\n",
    "    input_layer = tf.keras.Input(shape=(16,))\n",
    "\n",
    "    dense1 = Dense(512, activation=\"relu\",kernel_initializer=random_normal())(input_layer)\n",
    "\n",
    "    dense2 = Dense(1024, activation=\"tanh\",kernel_initializer=random_normal())(dense1)\n",
    "\n",
    "    dense3 = Dense(512, activation=\"tanh\",kernel_initializer=random_normal())(dense2)\n",
    "    \n",
    "    dense4 = Dense(512, activation=\"tanh\",kernel_initializer=random_normal())(dense3)\n",
    "\n",
    "    dense5 = Dense(64, activation=\"relu\",kernel_initializer=random_normal())(dense4)\n",
    "    \n",
    "    dense6 = Dense(32, activation=\"relu\",kernel_initializer=random_normal())(dense5)\n",
    "\n",
    "    dense_output = Dense(1, activation = 'linear')(dense5)\n",
    "\n",
    "    model = tf.keras.Model(inputs = input_layer, outputs = dense_output)\n",
    "\n",
    "    return model"
   ]
  },
  {
   "cell_type": "code",
   "execution_count": 84,
   "id": "9047b913",
   "metadata": {},
   "outputs": [],
   "source": [
    "def r2_score1(y_true, y_pred):\n",
    "\n",
    "  SS_res = tf.reduce_sum(tf.square(y_true - y_pred))\n",
    "  SS_tot = tf.reduce_sum(tf.square(y_true - tf.reduce_mean(y_true)))\n",
    "  return 1 - SS_res / (SS_tot + tf.keras.backend.epsilon())"
   ]
  },
  {
   "cell_type": "code",
   "execution_count": 85,
   "id": "6e93214e",
   "metadata": {},
   "outputs": [],
   "source": [
    "model=create_model()\n",
    "learning_rate = 0.0001\n",
    "optimizer = optimizers.Adam(learning_rate=learning_rate)\n",
    "model.compile(optimizer=optimizer, loss='mean_squared_error', metrics=['mean_squared_error',r2_score1])"
   ]
  },
  {
   "cell_type": "code",
   "execution_count": 86,
   "id": "b9847a32",
   "metadata": {},
   "outputs": [
    {
     "name": "stdout",
     "output_type": "stream",
     "text": [
      "Model: \"model\"\n",
      "_________________________________________________________________\n",
      " Layer (type)                Output Shape              Param #   \n",
      "=================================================================\n",
      " input_1 (InputLayer)        [(None, 16)]              0         \n",
      "                                                                 \n",
      " dense (Dense)               (None, 512)               8704      \n",
      "                                                                 \n",
      " dense_1 (Dense)             (None, 1024)              525312    \n",
      "                                                                 \n",
      " dense_2 (Dense)             (None, 512)               524800    \n",
      "                                                                 \n",
      " dense_3 (Dense)             (None, 512)               262656    \n",
      "                                                                 \n",
      " dense_4 (Dense)             (None, 64)                32832     \n",
      "                                                                 \n",
      " dense_6 (Dense)             (None, 1)                 65        \n",
      "                                                                 \n",
      "=================================================================\n",
      "Total params: 1,354,369\n",
      "Trainable params: 1,354,369\n",
      "Non-trainable params: 0\n",
      "_________________________________________________________________\n",
      "None\n"
     ]
    }
   ],
   "source": [
    "print(model.summary())"
   ]
  },
  {
   "cell_type": "code",
   "execution_count": 87,
   "id": "89112439",
   "metadata": {},
   "outputs": [
    {
     "name": "stdout",
     "output_type": "stream",
     "text": [
      "Epoch 1/30\n",
      "1053/1053 [==============================] - 151s 142ms/step - loss: 371.5961 - mean_squared_error: 371.5961 - r2_score1: -0.0672 - val_loss: 274.6658 - val_mean_squared_error: 274.6658 - val_r2_score1: 0.2502 - lr: 1.0000e-04\n",
      "Epoch 2/30\n",
      "1053/1053 [==============================] - 27s 26ms/step - loss: 260.0625 - mean_squared_error: 260.0625 - r2_score1: 0.2751 - val_loss: 271.2667 - val_mean_squared_error: 271.2667 - val_r2_score1: 0.2557 - lr: 1.0000e-04\n",
      "Epoch 3/30\n",
      "1053/1053 [==============================] - 25s 23ms/step - loss: 256.1414 - mean_squared_error: 256.1414 - r2_score1: 0.2880 - val_loss: 264.5615 - val_mean_squared_error: 264.5615 - val_r2_score1: 0.2784 - lr: 1.0000e-04\n",
      "Epoch 4/30\n",
      "1053/1053 [==============================] - 26s 25ms/step - loss: 254.6465 - mean_squared_error: 254.6465 - r2_score1: 0.2922 - val_loss: 263.4759 - val_mean_squared_error: 263.4759 - val_r2_score1: 0.2791 - lr: 1.0000e-04\n",
      "Epoch 5/30\n",
      "1053/1053 [==============================] - 27s 26ms/step - loss: 252.9763 - mean_squared_error: 252.9763 - r2_score1: 0.2959 - val_loss: 262.6177 - val_mean_squared_error: 262.6177 - val_r2_score1: 0.2835 - lr: 1.0000e-04\n",
      "Epoch 6/30\n",
      "1053/1053 [==============================] - 25s 24ms/step - loss: 252.0914 - mean_squared_error: 252.0914 - r2_score1: 0.2996 - val_loss: 262.4552 - val_mean_squared_error: 262.4552 - val_r2_score1: 0.2835 - lr: 1.0000e-04\n",
      "Epoch 7/30\n",
      "1053/1053 [==============================] - 27s 25ms/step - loss: 251.3840 - mean_squared_error: 251.3840 - r2_score1: 0.3014 - val_loss: 262.3647 - val_mean_squared_error: 262.3647 - val_r2_score1: 0.2824 - lr: 1.0000e-04\n",
      "Epoch 8/30\n",
      "1053/1053 [==============================] - 25s 24ms/step - loss: 250.9056 - mean_squared_error: 250.9056 - r2_score1: 0.3035 - val_loss: 261.6164 - val_mean_squared_error: 261.6164 - val_r2_score1: 0.2860 - lr: 1.0000e-04\n",
      "Epoch 9/30\n",
      "1053/1053 [==============================] - 24s 23ms/step - loss: 250.1716 - mean_squared_error: 250.1716 - r2_score1: 0.3045 - val_loss: 262.4353 - val_mean_squared_error: 262.4353 - val_r2_score1: 0.2846 - lr: 1.0000e-04\n",
      "Epoch 10/30\n",
      "1053/1053 [==============================] - 24s 23ms/step - loss: 249.4431 - mean_squared_error: 249.4431 - r2_score1: 0.3051 - val_loss: 263.1766 - val_mean_squared_error: 263.1766 - val_r2_score1: 0.2807 - lr: 1.0000e-04\n",
      "Epoch 11/30\n",
      "1053/1053 [==============================] - 24s 23ms/step - loss: 246.7979 - mean_squared_error: 246.7979 - r2_score1: 0.3131 - val_loss: 260.8262 - val_mean_squared_error: 260.8262 - val_r2_score1: 0.2882 - lr: 1.0000e-05\n",
      "Epoch 12/30\n",
      "1053/1053 [==============================] - 24s 23ms/step - loss: 246.3128 - mean_squared_error: 246.3128 - r2_score1: 0.3147 - val_loss: 260.5440 - val_mean_squared_error: 260.5440 - val_r2_score1: 0.2886 - lr: 1.0000e-05\n",
      "Epoch 13/30\n",
      "1053/1053 [==============================] - 24s 23ms/step - loss: 246.1577 - mean_squared_error: 246.1577 - r2_score1: 0.3154 - val_loss: 260.4545 - val_mean_squared_error: 260.4545 - val_r2_score1: 0.2899 - lr: 1.0000e-05\n",
      "Epoch 14/30\n",
      "1053/1053 [==============================] - 23s 22ms/step - loss: 246.0551 - mean_squared_error: 246.0551 - r2_score1: 0.3159 - val_loss: 260.5100 - val_mean_squared_error: 260.5100 - val_r2_score1: 0.2890 - lr: 1.0000e-05\n",
      "Epoch 15/30\n",
      "1053/1053 [==============================] - 23s 22ms/step - loss: 246.0253 - mean_squared_error: 246.0253 - r2_score1: 0.3159 - val_loss: 260.5878 - val_mean_squared_error: 260.5878 - val_r2_score1: 0.2887 - lr: 1.0000e-05\n",
      "Epoch 16/30\n",
      "1053/1053 [==============================] - 24s 22ms/step - loss: 245.8741 - mean_squared_error: 245.8741 - r2_score1: 0.3179 - val_loss: 260.3597 - val_mean_squared_error: 260.3597 - val_r2_score1: 0.2893 - lr: 1.0000e-05\n",
      "Epoch 17/30\n",
      "1053/1053 [==============================] - 24s 23ms/step - loss: 245.7361 - mean_squared_error: 245.7361 - r2_score1: 0.3172 - val_loss: 260.5828 - val_mean_squared_error: 260.5828 - val_r2_score1: 0.2886 - lr: 1.0000e-05\n",
      "Epoch 18/30\n",
      "1053/1053 [==============================] - 23s 22ms/step - loss: 245.7054 - mean_squared_error: 245.7054 - r2_score1: 0.3161 - val_loss: 260.4915 - val_mean_squared_error: 260.4915 - val_r2_score1: 0.2888 - lr: 1.0000e-05\n",
      "Epoch 19/30\n",
      "1053/1053 [==============================] - 23s 22ms/step - loss: 245.6162 - mean_squared_error: 245.6162 - r2_score1: 0.3172 - val_loss: 260.3210 - val_mean_squared_error: 260.3210 - val_r2_score1: 0.2895 - lr: 1.0000e-05\n",
      "Epoch 20/30\n",
      "1053/1053 [==============================] - 22s 21ms/step - loss: 245.5119 - mean_squared_error: 245.5119 - r2_score1: 0.3167 - val_loss: 260.3491 - val_mean_squared_error: 260.3491 - val_r2_score1: 0.2889 - lr: 1.0000e-05\n",
      "Epoch 21/30\n",
      "1053/1053 [==============================] - 23s 21ms/step - loss: 245.1130 - mean_squared_error: 245.1130 - r2_score1: 0.3177 - val_loss: 260.2841 - val_mean_squared_error: 260.2841 - val_r2_score1: 0.2894 - lr: 1.0000e-06\n",
      "Epoch 22/30\n",
      "1053/1053 [==============================] - 22s 21ms/step - loss: 245.0862 - mean_squared_error: 245.0862 - r2_score1: 0.3190 - val_loss: 260.2891 - val_mean_squared_error: 260.2891 - val_r2_score1: 0.2893 - lr: 1.0000e-06\n",
      "Epoch 23/30\n",
      "1053/1053 [==============================] - 23s 21ms/step - loss: 245.0723 - mean_squared_error: 245.0723 - r2_score1: 0.3179 - val_loss: 260.2871 - val_mean_squared_error: 260.2871 - val_r2_score1: 0.2894 - lr: 1.0000e-06\n",
      "Epoch 24/30\n",
      "1053/1053 [==============================] - 23s 21ms/step - loss: 245.0571 - mean_squared_error: 245.0571 - r2_score1: 0.3174 - val_loss: 260.2380 - val_mean_squared_error: 260.2380 - val_r2_score1: 0.2895 - lr: 1.0000e-06\n",
      "Epoch 25/30\n",
      "1053/1053 [==============================] - 23s 21ms/step - loss: 245.0500 - mean_squared_error: 245.0500 - r2_score1: 0.3168 - val_loss: 260.2370 - val_mean_squared_error: 260.2370 - val_r2_score1: 0.2893 - lr: 1.0000e-06\n",
      "Epoch 26/30\n",
      "1053/1053 [==============================] - 23s 22ms/step - loss: 245.0364 - mean_squared_error: 245.0364 - r2_score1: 0.3184 - val_loss: 260.2665 - val_mean_squared_error: 260.2665 - val_r2_score1: 0.2894 - lr: 1.0000e-06\n",
      "Epoch 27/30\n",
      "1053/1053 [==============================] - 22s 21ms/step - loss: 245.0250 - mean_squared_error: 245.0250 - r2_score1: 0.3183 - val_loss: 260.2995 - val_mean_squared_error: 260.2995 - val_r2_score1: 0.2892 - lr: 1.0000e-06\n",
      "Epoch 28/30\n",
      "1053/1053 [==============================] - 23s 22ms/step - loss: 245.0139 - mean_squared_error: 245.0139 - r2_score1: 0.3190 - val_loss: 260.2560 - val_mean_squared_error: 260.2560 - val_r2_score1: 0.2893 - lr: 1.0000e-06\n",
      "Epoch 29/30\n",
      "1053/1053 [==============================] - 25s 24ms/step - loss: 244.9965 - mean_squared_error: 244.9965 - r2_score1: 0.3189 - val_loss: 260.2943 - val_mean_squared_error: 260.2943 - val_r2_score1: 0.2896 - lr: 1.0000e-06\n",
      "Epoch 30/30\n",
      "1053/1053 [==============================] - 25s 24ms/step - loss: 244.9986 - mean_squared_error: 244.9986 - r2_score1: 0.3195 - val_loss: 260.2613 - val_mean_squared_error: 260.2613 - val_r2_score1: 0.2893 - lr: 1.0000e-06\n"
     ]
    }
   ],
   "source": [
    "def lr_scheduler(epoch, lr):\n",
    "    decay_rate = 0.1\n",
    "    decay_step = 10\n",
    "    if epoch % decay_step == 0 and epoch > 0:\n",
    "        return lr * decay_rate\n",
    "    return lr\n",
    "\n",
    "lr_callback = tf.keras.callbacks.LearningRateScheduler(lr_scheduler)\n",
    "\n",
    "\n",
    "\n",
    "epochs = 30\n",
    "batch_size =128\n",
    "\n",
    "history = model.fit(\n",
    "    Xtrain_std.values,\n",
    "    np.array(y_Train),\n",
    "    batch_size=batch_size,\n",
    "    epochs=epochs,\n",
    "#     validation_split = 0.2\n",
    "    validation_data=(x_val_std.values, np.array(y_vald)),\n",
    "    callbacks=[lr_callback]\n",
    "    \n",
    ")"
   ]
  },
  {
   "cell_type": "code",
   "execution_count": 88,
   "id": "e139741d",
   "metadata": {},
   "outputs": [
    {
     "data": {
      "image/png": "[encoded data removed]",
      "text/plain": [
       "<Figure size 720x432 with 1 Axes>"
      ]
     },
     "metadata": {
      "needs_background": "light"
     },
     "output_type": "display_data"
    }
   ],
   "source": [
    "plt.rcParams[\"figure.figsize\"] = (10,6)\n",
    "\n",
    "train_loss = history.history['loss']\n",
    "val_loss = history.history['val_loss']\n",
    "train_mse = history.history['mean_squared_error']\n",
    "val_mse = history.history['val_mean_squared_error']\n",
    "epochs = len(history.history['loss'])\n",
    "\n",
    "plt.plot(list(range(epochs)), train_loss, label = 'Train Loss')\n",
    "plt.plot(list(range(epochs)), val_loss, label = 'Validation Loss')\n",
    "plt.title('Train vs Validation Loss')\n",
    "plt.legend()\n",
    "plt.show()"
   ]
  },
  {
   "cell_type": "code",
   "execution_count": 89,
   "id": "0299ea8d",
   "metadata": {},
   "outputs": [
    {
     "data": {
      "image/png": "[encoded data removed]",
      "text/plain": [
       "<Figure size 720x432 with 1 Axes>"
      ]
     },
     "metadata": {
      "needs_background": "light"
     },
     "output_type": "display_data"
    }
   ],
   "source": [
    "plt.rcParams[\"figure.figsize\"] = (10,6)\n",
    "\n",
    "train_R2 = history.history['r2_score1']\n",
    "val_R2 = history.history['val_r2_score1']\n",
    "\n",
    "epochs = len(history.history['loss'])\n",
    "\n",
    "plt.plot(list(range(epochs)), train_R2, label = 'Train R2')\n",
    "plt.plot(list(range(epochs)), val_R2, label = 'Validation R2')\n",
    "plt.title('Train vs Validation R2')\n",
    "plt.legend()\n",
    "plt.show()"
   ]
  },
  {
   "cell_type": "code",
   "execution_count": 90,
   "id": "d2558f1c",
   "metadata": {},
   "outputs": [
    {
     "name": "stdout",
     "output_type": "stream",
     "text": [
      "R2_score 0.223392547502693\n",
      "Mean Squared Error of Neural Net Model on Test Data = 360.3552271653025\n",
      "Root Mean Squared Error of Neural Net Model on Test Data = 18.983024710654057\n",
      "Mean Absolute Error of Neural Net Model on Test Data = 11.421446302745748\n"
     ]
    }
   ],
   "source": [
    "test_y_pred = model.predict(x_test_std.values) \n",
    "test_y_pred = np.squeeze(test_y_pred, axis = 1)\n",
    "\n",
    "nn_mse = mean_squared_error(np.array(y_test), test_y_pred)\n",
    "nn_rmse = mean_squared_error(np.array(y_test), test_y_pred, squared=False)\n",
    "nn_mae = mean_absolute_error(np.array(y_test), test_y_pred)\n",
    "\n",
    "print(\"R2_score\",r2_score(np.array(y_test),test_y_pred))\n",
    "\n",
    "print(f\"Mean Squared Error of Neural Net Model on Test Data = {nn_mse}\")\n",
    "print(f\"Root Mean Squared Error of Neural Net Model on Test Data = {nn_rmse}\")\n",
    "print(f\"Mean Absolute Error of Neural Net Model on Test Data = {nn_mae}\")"
   ]
  },
  {
   "cell_type": "code",
   "execution_count": 91,
   "id": "900b60c8",
   "metadata": {},
   "outputs": [],
   "source": [
    "model1=create_model()\n",
    "learning_rate = 0.001\n",
    "optimizer = optimizers.Adam(learning_rate=learning_rate)\n",
    "model1.compile(optimizer=optimizer, loss='mean_squared_error', metrics=['mean_squared_error',r2_score1])"
   ]
  },
  {
   "cell_type": "code",
   "execution_count": 92,
   "id": "96e7115e",
   "metadata": {},
   "outputs": [
    {
     "name": "stdout",
     "output_type": "stream",
     "text": [
      "Epoch 1/30\n",
      "2340/2340 [==============================] - 47s 20ms/step - loss: 291.9798 - mean_squared_error: 291.9798 - r2_score1: 0.1686 - val_loss: 269.2319 - val_mean_squared_error: 269.2319 - val_r2_score1: 0.2595 - lr: 0.0010\n",
      "Epoch 2/30\n",
      "2340/2340 [==============================] - 45s 19ms/step - loss: 258.1982 - mean_squared_error: 258.1982 - r2_score1: 0.2647 - val_loss: 267.3430 - val_mean_squared_error: 267.3430 - val_r2_score1: 0.2660 - lr: 0.0010\n",
      "Epoch 3/30\n",
      "2340/2340 [==============================] - 47s 20ms/step - loss: 256.4707 - mean_squared_error: 256.4707 - r2_score1: 0.2716 - val_loss: 268.4615 - val_mean_squared_error: 268.4615 - val_r2_score1: 0.2605 - lr: 0.0010\n",
      "Epoch 4/30\n",
      "2340/2340 [==============================] - 47s 20ms/step - loss: 254.6408 - mean_squared_error: 254.6408 - r2_score1: 0.2763 - val_loss: 279.2608 - val_mean_squared_error: 279.2608 - val_r2_score1: 0.2167 - lr: 0.0010\n",
      "Epoch 5/30\n",
      "2340/2340 [==============================] - 46s 20ms/step - loss: 253.9313 - mean_squared_error: 253.9313 - r2_score1: 0.2779 - val_loss: 269.9553 - val_mean_squared_error: 269.9553 - val_r2_score1: 0.2598 - lr: 0.0010\n",
      "Epoch 6/30\n",
      "2340/2340 [==============================] - 44s 19ms/step - loss: 254.1325 - mean_squared_error: 254.1325 - r2_score1: 0.2776 - val_loss: 266.1656 - val_mean_squared_error: 266.1656 - val_r2_score1: 0.2646 - lr: 0.0010\n",
      "Epoch 7/30\n",
      "2340/2340 [==============================] - 43s 18ms/step - loss: 254.4469 - mean_squared_error: 254.4469 - r2_score1: 0.2766 - val_loss: 273.8286 - val_mean_squared_error: 273.8286 - val_r2_score1: 0.2336 - lr: 0.0010\n",
      "Epoch 8/30\n",
      "2340/2340 [==============================] - 43s 18ms/step - loss: 252.0430 - mean_squared_error: 252.0430 - r2_score1: 0.2851 - val_loss: 266.0028 - val_mean_squared_error: 266.0028 - val_r2_score1: 0.2696 - lr: 0.0010\n",
      "Epoch 9/30\n",
      "2340/2340 [==============================] - 43s 18ms/step - loss: 251.4459 - mean_squared_error: 251.4459 - r2_score1: 0.2865 - val_loss: 265.7532 - val_mean_squared_error: 265.7532 - val_r2_score1: 0.2625 - lr: 0.0010\n",
      "Epoch 10/30\n",
      "2340/2340 [==============================] - 42s 18ms/step - loss: 250.7267 - mean_squared_error: 250.7267 - r2_score1: 0.2877 - val_loss: 262.6711 - val_mean_squared_error: 262.6711 - val_r2_score1: 0.2757 - lr: 0.0010\n",
      "Epoch 11/30\n",
      "2340/2340 [==============================] - 45s 19ms/step - loss: 245.1782 - mean_squared_error: 245.1782 - r2_score1: 0.3056 - val_loss: 258.4284 - val_mean_squared_error: 258.4284 - val_r2_score1: 0.2881 - lr: 1.0000e-04\n",
      "Epoch 12/30\n",
      "2340/2340 [==============================] - 44s 19ms/step - loss: 244.0421 - mean_squared_error: 244.0421 - r2_score1: 0.3098 - val_loss: 258.5640 - val_mean_squared_error: 258.5640 - val_r2_score1: 0.2867 - lr: 1.0000e-04\n",
      "Epoch 13/30\n",
      "2340/2340 [==============================] - 44s 19ms/step - loss: 243.5694 - mean_squared_error: 243.5694 - r2_score1: 0.3081 - val_loss: 257.9457 - val_mean_squared_error: 257.9457 - val_r2_score1: 0.2891 - lr: 1.0000e-04\n",
      "Epoch 14/30\n",
      "2340/2340 [==============================] - 44s 19ms/step - loss: 243.2694 - mean_squared_error: 243.2694 - r2_score1: 0.3100 - val_loss: 257.6387 - val_mean_squared_error: 257.6387 - val_r2_score1: 0.2908 - lr: 1.0000e-04\n",
      "Epoch 15/30\n",
      "2340/2340 [==============================] - 44s 19ms/step - loss: 243.0005 - mean_squared_error: 243.0005 - r2_score1: 0.3121 - val_loss: 258.3439 - val_mean_squared_error: 258.3439 - val_r2_score1: 0.2877 - lr: 1.0000e-04\n",
      "Epoch 16/30\n",
      "2340/2340 [==============================] - 45s 19ms/step - loss: 242.7250 - mean_squared_error: 242.7250 - r2_score1: 0.3111 - val_loss: 257.7382 - val_mean_squared_error: 257.7382 - val_r2_score1: 0.2901 - lr: 1.0000e-04\n",
      "Epoch 17/30\n",
      "2340/2340 [==============================] - 45s 19ms/step - loss: 242.7021 - mean_squared_error: 242.7021 - r2_score1: 0.3136 - val_loss: 258.0548 - val_mean_squared_error: 258.0548 - val_r2_score1: 0.2862 - lr: 1.0000e-04\n",
      "Epoch 18/30\n",
      "2340/2340 [==============================] - 44s 19ms/step - loss: 242.3095 - mean_squared_error: 242.3095 - r2_score1: 0.3131 - val_loss: 257.3636 - val_mean_squared_error: 257.3636 - val_r2_score1: 0.2903 - lr: 1.0000e-04\n",
      "Epoch 19/30\n",
      "2340/2340 [==============================] - 45s 19ms/step - loss: 242.1732 - mean_squared_error: 242.1732 - r2_score1: 0.3139 - val_loss: 257.4496 - val_mean_squared_error: 257.4496 - val_r2_score1: 0.2911 - lr: 1.0000e-04\n",
      "Epoch 20/30\n",
      "2340/2340 [==============================] - 45s 19ms/step - loss: 241.9067 - mean_squared_error: 241.9067 - r2_score1: 0.3141 - val_loss: 257.3000 - val_mean_squared_error: 257.3000 - val_r2_score1: 0.2922 - lr: 1.0000e-04\n",
      "Epoch 21/30\n",
      "2340/2340 [==============================] - 45s 19ms/step - loss: 241.0487 - mean_squared_error: 241.0487 - r2_score1: 0.3169 - val_loss: 257.1625 - val_mean_squared_error: 257.1625 - val_r2_score1: 0.2912 - lr: 1.0000e-05\n",
      "Epoch 22/30\n",
      "2340/2340 [==============================] - 45s 19ms/step - loss: 240.7675 - mean_squared_error: 240.7675 - r2_score1: 0.3153 - val_loss: 257.1720 - val_mean_squared_error: 257.1720 - val_r2_score1: 0.2911 - lr: 1.0000e-05\n",
      "Epoch 23/30\n",
      "2340/2340 [==============================] - 45s 19ms/step - loss: 240.6186 - mean_squared_error: 240.6186 - r2_score1: 0.3176 - val_loss: 257.1457 - val_mean_squared_error: 257.1457 - val_r2_score1: 0.2905 - lr: 1.0000e-05\n",
      "Epoch 24/30\n",
      "2340/2340 [==============================] - 45s 19ms/step - loss: 240.5212 - mean_squared_error: 240.5212 - r2_score1: 0.3178 - val_loss: 257.3218 - val_mean_squared_error: 257.3218 - val_r2_score1: 0.2906 - lr: 1.0000e-05\n",
      "Epoch 25/30\n",
      "2340/2340 [==============================] - 44s 19ms/step - loss: 240.4439 - mean_squared_error: 240.4439 - r2_score1: 0.3198 - val_loss: 257.1879 - val_mean_squared_error: 257.1879 - val_r2_score1: 0.2907 - lr: 1.0000e-05\n",
      "Epoch 26/30\n",
      "2340/2340 [==============================] - 43s 18ms/step - loss: 240.3823 - mean_squared_error: 240.3823 - r2_score1: 0.3186 - val_loss: 257.2359 - val_mean_squared_error: 257.2359 - val_r2_score1: 0.2904 - lr: 1.0000e-05\n",
      "Epoch 27/30\n",
      "2340/2340 [==============================] - 43s 18ms/step - loss: 240.3067 - mean_squared_error: 240.3067 - r2_score1: 0.3181 - val_loss: 257.2669 - val_mean_squared_error: 257.2669 - val_r2_score1: 0.2907 - lr: 1.0000e-05\n",
      "Epoch 28/30\n",
      "2340/2340 [==============================] - 44s 19ms/step - loss: 240.2456 - mean_squared_error: 240.2456 - r2_score1: 0.3175 - val_loss: 257.2297 - val_mean_squared_error: 257.2297 - val_r2_score1: 0.2908 - lr: 1.0000e-05\n",
      "Epoch 29/30\n",
      "2340/2340 [==============================] - 42s 18ms/step - loss: 240.1842 - mean_squared_error: 240.1842 - r2_score1: 0.3189 - val_loss: 257.2020 - val_mean_squared_error: 257.2020 - val_r2_score1: 0.2909 - lr: 1.0000e-05\n",
      "Epoch 30/30\n",
      "2340/2340 [==============================] - 41s 17ms/step - loss: 240.1415 - mean_squared_error: 240.1415 - r2_score1: 0.3185 - val_loss: 257.2499 - val_mean_squared_error: 257.2499 - val_r2_score1: 0.2904 - lr: 1.0000e-05\n"
     ]
    }
   ],
   "source": [
    "def lr_scheduler(epoch, lr):\n",
    "    decay_rate = 0.1\n",
    "    decay_step = 10\n",
    "    if epoch % decay_step == 0 and epoch > 0:\n",
    "        return lr * decay_rate\n",
    "    return lr\n",
    "\n",
    "lr_callback = tf.keras.callbacks.LearningRateScheduler(lr_scheduler)\n",
    "\n",
    "\n",
    "\n",
    "epochs = 30\n",
    "batch_size =64\n",
    "\n",
    "history = model1.fit(\n",
    "    Xtrain_std1.values,\n",
    "    np.array(y_Train1),\n",
    "    batch_size=batch_size,\n",
    "    epochs=epochs,\n",
    "#     validation_split = 0.2,\n",
    "    validation_data=(x_val_std.values, np.array(y_vald)),\n",
    "    callbacks=[lr_callback]\n",
    "    \n",
    ")"
   ]
  },
  {
   "cell_type": "code",
   "execution_count": 94,
   "id": "67ea98b4",
   "metadata": {},
   "outputs": [
    {
     "name": "stdout",
     "output_type": "stream",
     "text": [
      "R2_score 0.24692833100431866\n",
      "Mean Squared Error of Neural Net Model on Test Data = 319.01423802537585\n",
      "Root Mean Squared Error of Neural Net Model on Test Data = 17.86096968323321\n",
      "Mean Absolute Error of Neural Net Model on Test Data = 11.115676028292794\n"
     ]
    }
   ],
   "source": [
    "test_y_pred = model1.predict(x_test_std1.values) \n",
    "test_y_pred = np.squeeze(test_y_pred, axis = 1)\n",
    "\n",
    "nn_mse = mean_squared_error(np.array(y_test1), test_y_pred)\n",
    "nn_rmse = mean_squared_error(np.array(y_test1), test_y_pred, squared=False)\n",
    "nn_mae = mean_absolute_error(np.array(y_test1), test_y_pred)\n",
    "\n",
    "print(\"R2_score\",r2_score(np.array(y_test1),test_y_pred))\n",
    "\n",
    "print(f\"Mean Squared Error of Neural Net Model on Test Data = {nn_mse}\")\n",
    "print(f\"Root Mean Squared Error of Neural Net Model on Test Data = {nn_rmse}\")\n",
    "print(f\"Mean Absolute Error of Neural Net Model on Test Data = {nn_mae}\")"
   ]
  },
  {
   "cell_type": "code",
   "execution_count": 96,
   "id": "38281121",
   "metadata": {},
   "outputs": [
    {
     "data": {
      "image/png": "[encoded data removed]",
      "text/plain": [
       "<Figure size 720x432 with 1 Axes>"
      ]
     },
     "metadata": {
      "needs_background": "light"
     },
     "output_type": "display_data"
    }
   ],
   "source": [
    "plt.rcParams[\"figure.figsize\"] = (10,6)\n",
    "\n",
    "train_loss = history.history['loss']\n",
    "val_loss = history.history['val_loss']\n",
    "train_mse = history.history['mean_squared_error']\n",
    "val_mse = history.history['val_mean_squared_error']\n",
    "epochs = len(history.history['loss'])\n",
    "\n",
    "plt.plot(list(range(epochs)), train_loss, label = 'Train Loss')\n",
    "plt.plot(list(range(epochs)), val_loss, label = 'Validation Loss')\n",
    "plt.title('Train vs Validation Loss')\n",
    "plt.legend()\n",
    "plt.show()"
   ]
  },
  {
   "cell_type": "code",
   "execution_count": 97,
   "id": "5ecb8c8c",
   "metadata": {},
   "outputs": [
    {
     "data": {
      "image/png": "[encoded data removed]",
      "text/plain": [
       "<Figure size 720x432 with 1 Axes>"
      ]
     },
     "metadata": {
      "needs_background": "light"
     },
     "output_type": "display_data"
    }
   ],
   "source": [
    "plt.rcParams[\"figure.figsize\"] = (10,6)\n",
    "\n",
    "train_R2 = history.history['r2_score1']\n",
    "val_R2 = history.history['val_r2_score1']\n",
    "\n",
    "epochs = len(history.history['loss'])\n",
    "\n",
    "plt.plot(list(range(epochs)), train_R2, label = 'Train R2')\n",
    "plt.plot(list(range(epochs)), val_R2, label = 'Validation R2')\n",
    "plt.title('Train vs Validation R2')\n",
    "plt.legend()\n",
    "plt.show()"
   ]
  },
  {
   "cell_type": "markdown",
   "id": "f0c68285",
   "metadata": {},
   "source": [
    "### Questionare "
   ]
  },
  {
   "cell_type": "markdown",
   "id": "e22708cc",
   "metadata": {},
   "source": [
    "Defining the problem statements and where can this and modifications of this be used?\n",
    "    Solution - Here the problem Statement is to estimate the Delivery time, which is a regression problem. \n",
    "    A modified version of this can be used to Estimate Number of Orders in coming days, Predicting Seasonal Trend, and can also be used in Inventory Management.\n",
    "    \n",
    "    List 3 functions the pandas datetime provides with one line explanation.\n",
    "    Solution -\n",
    "    pd.to_datetime()  - Converts a string to pandas DateTimeIndex.\n",
    "    dt.year - Extracts year from data which is in panadas DateTimeIndex format\n",
    "    dt.month - Extracts month from data which is in panadas DateTimeIndex format\n",
    "    dt.day - Extracts day form data which is in panadas DateTimeIndex format\n",
    "    dt.weekday - Extracts weekday from data which is in panadas DateTimeIndex format\n",
    "    \n",
    "    Short note on datetime, timedelta, time span (period)\n",
    "    datetime - Can be used to convert a series or list-like object to a pandas DateTimeIndex, so that we can extract information like year, month, day, weekday etc\n",
    "    timedelta -  Converts a series or list-like object to a pandas TimedeltaIndex, which represents a duration or time interval. Using this we can add or substract time \n",
    "    time span - It is nothing but the time period, it can be in days, weeks, months etc.\n",
    "    \n",
    "    Why do we need to check for outliers in our data?\n",
    "    Its important because outliers will effect the model parameters and hence cause more errors while predictions\n",
    "    This might also prevent the model from attaining the global minima.\n",
    "    Its very important to remove outliers before doing normalization because they get majorly impacted.\n",
    "    \n",
    "    Name 3 outlier removal methods?\n",
    "    1. Z Score method - All the datapoints which have z score greater than 2.5  or 3 can be considered as outlier, because they a datapoint with high z score means it lies far away from the mean.\n",
    "    2. IQR Method - A datapoint which is greater than 1.5 times the IQR + 75th percentile or smaller than 25th percentile - 1.5 times the IQR, can be coinsidered as an outlier. 3 can also be used instead of 1.5 depending upon the data.\n",
    "    3. Visualization - It can be a great and simple way of identifying outlier data, like using Box Plots and Scatter plots.\n",
    "    4. We can also use achine learning techniques like LOF (Local Outlier Factor) to identify outliers\n",
    "    \n",
    "    What classical machine learning methods can we use other than random forest for regression?\n",
    "    Other regression models which we can use are - Linear Regression, K Nearest Neighbours, Decision Tree, Gradient Boosting Decision Tree, XGBoost are some of the other moethods which can be used.\n",
    "    \n",
    "    Why is scaling required for neural networks?\n",
    "    Scaling is very essential to have proper and quick convergence. If scaling is not done properly, the optimization technique might give more importance to certain features. If the scale is too large or small it might also result in exploding or vanisihing gradients. \n",
    "    \n",
    "    Briefly explain your choice of optimizer.\n",
    "    I choose to use ADAM optimizer over RMSprop and SGD with momentum, because it is like the combined version of both these optimizers. ADAM also uses momentum along with adaptive learning due to which it out performs these most of the times.\n",
    "    \n",
    "    Which activation function did you use and why?\n",
    "    In the hidden layers I used ReLu and tanh activation function, because it has the least chance of vanishing gradients.\n",
    "    For output I used Linear activation function, because its a regression problem.\n",
    "    \n",
    "    Why does a neural network perform well on a large dataset?\n",
    "    Neural Networks have huge number of trainable parameters, hence its important to have large dataset to avoid overfitting and better parameter estimation."
   ]
  },
  {
   "cell_type": "code",
   "execution_count": null,
   "id": "9ed9edc5",
   "metadata": {},
   "outputs": [],
   "source": []
  }
 ],
 "metadata": {
  "kernelspec": {
   "display_name": "Python 3",
   "language": "python",
   "name": "python3"
  },
  "language_info": {
   "codemirror_mode": {
    "name": "ipython",
    "version": 3
   },
   "file_extension": ".py",
   "mimetype": "text/x-python",
   "name": "python",
   "nbconvert_exporter": "python",
   "pygments_lexer": "ipython3",
   "version": "3.8.8"
  }
 },
 "nbformat": 4,
 "nbformat_minor": 5
}
